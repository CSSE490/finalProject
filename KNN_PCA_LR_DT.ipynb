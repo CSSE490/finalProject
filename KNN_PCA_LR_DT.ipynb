{
 "cells": [
  {
   "cell_type": "markdown",
   "metadata": {},
   "source": [
    "# Digit Recognition Using Multiple ML Methods (KNN/LG/DT/PCA)"
   ]
  },
  {
   "cell_type": "code",
   "execution_count": 1,
   "metadata": {},
   "outputs": [],
   "source": [
    "import numpy as np\n",
    "import os\n",
    "import struct\n",
    "import requests"
   ]
  },
  {
   "cell_type": "code",
   "execution_count": 4,
   "metadata": {},
   "outputs": [],
   "source": [
    "# Parse the original data\n",
    "def get_number(byte):\n",
    "    return int.from_bytes(byte, \"big\")\n",
    "def parse_images(file_path):\n",
    "    with open(file_path, \"rb\") as f:\n",
    "        magic_num = get_number(f.read(4))\n",
    "        image_count = get_number(f.read(4))\n",
    "        rows = get_number(f.read(4))\n",
    "        cols = get_number(f.read(4))\n",
    "        print(\"rows: \", rows, \"cols\", cols);\n",
    "        images = np.zeros((image_count, rows, cols))\n",
    "\n",
    "        current_img = 0\n",
    "        current_row = 0\n",
    "        current_col = 0\n",
    "\n",
    "        while current_img < image_count:\n",
    "            num = get_number(f.read(1))\n",
    "            images[current_img, current_row, current_col] = num\n",
    "\n",
    "            if current_row == rows - 1 and current_col == cols - 1:\n",
    "                current_img += 1\n",
    "                current_row = 0\n",
    "                current_col = 0\n",
    "            elif current_col == cols - 1:\n",
    "                current_row += 1\n",
    "                current_col = 0\n",
    "            else:\n",
    "                current_col += 1\n",
    "    return images\n",
    "def parse_labels(file_path):\n",
    "    with open(file_path, \"rb\") as f:\n",
    "        magic_num = get_number(f.read(4))\n",
    "        label_count = get_number(f.read(4))\n",
    "\n",
    "        labels = np.zeros((label_count))\n",
    "        current_label = 0\n",
    "\n",
    "        while current_label < label_count:\n",
    "            num = get_number(f.read(1))\n",
    "            labels[current_label] = num\n",
    "            current_label += 1\n",
    "\n",
    "        return labels\n",
    "def parse_data():\n",
    "    train_images_path =os.path.abspath(\"train-images-idx3-ubyte\")\n",
    "    test_images_path = os.path.abspath(\"t10k-images-idx3-ubyte\")\n",
    "\n",
    "    train_labels_path =os.path.abspath(\"train-labels-idx1-ubyte\")\n",
    "    test_labels_path = os.path.abspath(\"t10k-labels-idx1-ubyte\")\n",
    "\n",
    "    x_train = parse_images(train_images_path)\n",
    "    y_train = parse_labels(train_labels_path)\n",
    "\n",
    "    x_test = parse_images(test_images_path)\n",
    "    y_test = parse_labels(test_labels_path)\n",
    "\n",
    "    return (x_train, y_train), (x_test, y_test)"
   ]
  },
  {
   "cell_type": "code",
   "execution_count": 5,
   "metadata": {},
   "outputs": [
    {
     "name": "stdout",
     "output_type": "stream",
     "text": [
      "rows:  28 cols 28\n",
      "rows:  28 cols 28\n"
     ]
    }
   ],
   "source": [
    "(x_train, y_train), (x_test, y_test) = parse_data()"
   ]
  },
  {
   "cell_type": "code",
   "execution_count": 6,
   "metadata": {},
   "outputs": [],
   "source": [
    "import numpy as np\n",
    "import pandas as pd\n",
    "from sklearn.preprocessing import StandardScaler\n",
    "from sklearn.model_selection import train_test_split, GridSearchCV\n",
    "from sklearn.neighbors import KNeighborsClassifier\n",
    "import matplotlib.pyplot as plt"
   ]
  },
  {
   "cell_type": "markdown",
   "metadata": {},
   "source": [
    "# Apply KNN Classifier (K=1)"
   ]
  },
  {
   "cell_type": "code",
   "execution_count": 183,
   "metadata": {},
   "outputs": [],
   "source": [
    "import time\n",
    "start_time_train = time.perf_counter()"
   ]
  },
  {
   "cell_type": "code",
   "execution_count": 184,
   "metadata": {},
   "outputs": [],
   "source": [
    "knn = KNeighborsClassifier(n_neighbors=1)"
   ]
  },
  {
   "cell_type": "code",
   "execution_count": 185,
   "metadata": {},
   "outputs": [
    {
     "name": "stderr",
     "output_type": "stream",
     "text": [
      "/opt/anaconda3/lib/python3.6/site-packages/ipykernel_launcher.py:1: DataConversionWarning: A column-vector y was passed when a 1d array was expected. Please change the shape of y to (n_samples, ), for example using ravel().\n",
      "  \"\"\"Entry point for launching an IPython kernel.\n"
     ]
    },
    {
     "data": {
      "text/plain": [
       "KNeighborsClassifier(algorithm='auto', leaf_size=30, metric='minkowski',\n",
       "                     metric_params=None, n_jobs=None, n_neighbors=1, p=2,\n",
       "                     weights='uniform')"
      ]
     },
     "execution_count": 185,
     "metadata": {},
     "output_type": "execute_result"
    }
   ],
   "source": [
    "knn.fit(x_train.flatten().reshape(60000,784),y_train.reshape(60000,1))"
   ]
  },
  {
   "cell_type": "code",
   "execution_count": 186,
   "metadata": {},
   "outputs": [
    {
     "name": "stdout",
     "output_type": "stream",
     "text": [
      "training time: 12.092\n"
     ]
    }
   ],
   "source": [
    "end_time_train = time.perf_counter()\n",
    "total_time_train = round(end_time_train - start_time_train, 3)\n",
    "print('training time:',total_time_train)"
   ]
  },
  {
   "cell_type": "code",
   "execution_count": 187,
   "metadata": {},
   "outputs": [
    {
     "data": {
      "text/plain": [
       "1.0"
      ]
     },
     "execution_count": 187,
     "metadata": {},
     "output_type": "execute_result"
    }
   ],
   "source": [
    "knn.score(x_train.flatten().reshape(60000,784),y_train.reshape(60000,1))"
   ]
  },
  {
   "cell_type": "code",
   "execution_count": 192,
   "metadata": {},
   "outputs": [],
   "source": [
    "start_time_test = time.perf_counter()"
   ]
  },
  {
   "cell_type": "code",
   "execution_count": 193,
   "metadata": {},
   "outputs": [
    {
     "data": {
      "text/plain": [
       "0.9691"
      ]
     },
     "execution_count": 193,
     "metadata": {},
     "output_type": "execute_result"
    }
   ],
   "source": [
    "knn.score(x_test.flatten().reshape(10000,784),y_test.reshape(10000,1))"
   ]
  },
  {
   "cell_type": "code",
   "execution_count": 194,
   "metadata": {},
   "outputs": [
    {
     "name": "stdout",
     "output_type": "stream",
     "text": [
      "testing time: 617.422\n"
     ]
    }
   ],
   "source": [
    "end_time_test = time.perf_counter()\n",
    "total_time_test = round(end_time_test - start_time_test, 3)\n",
    "print('testing time:',total_time_test)"
   ]
  },
  {
   "cell_type": "code",
   "execution_count": 195,
   "metadata": {},
   "outputs": [
    {
     "name": "stdout",
     "output_type": "stream",
     "text": [
      "test error when k=1  0.031\n"
     ]
    }
   ],
   "source": [
    "print('test error when k=1 ',round(1 -0.9691,3))"
   ]
  },
  {
   "cell_type": "markdown",
   "metadata": {},
   "source": [
    "# Apply K = 2"
   ]
  },
  {
   "cell_type": "code",
   "execution_count": 197,
   "metadata": {},
   "outputs": [
    {
     "name": "stderr",
     "output_type": "stream",
     "text": [
      "/opt/anaconda3/lib/python3.6/site-packages/ipykernel_launcher.py:2: DataConversionWarning: A column-vector y was passed when a 1d array was expected. Please change the shape of y to (n_samples, ), for example using ravel().\n",
      "  \n"
     ]
    },
    {
     "name": "stdout",
     "output_type": "stream",
     "text": [
      "test score: 0.9627\n",
      "testing time: 622.901\n"
     ]
    }
   ],
   "source": [
    "knn = KNeighborsClassifier(n_neighbors=2)\n",
    "knn.fit(x_train.flatten().reshape(60000,784),y_train.reshape(60000,1))\n",
    "start_time_test = time.perf_counter()\n",
    "test_score = knn.score(x_test.flatten().reshape(10000,784),y_test.reshape(10000,1))\n",
    "end_time_test = time.perf_counter()\n",
    "total_time_test = round(end_time_test - start_time_test, 3)\n",
    "print('test score:',test_score)\n",
    "print('testing time:',total_time_test)"
   ]
  },
  {
   "cell_type": "markdown",
   "metadata": {},
   "source": [
    "# Apply logistic classifier"
   ]
  },
  {
   "cell_type": "code",
   "execution_count": 198,
   "metadata": {},
   "outputs": [],
   "source": [
    "from sklearn.linear_model import LogisticRegression"
   ]
  },
  {
   "cell_type": "code",
   "execution_count": 199,
   "metadata": {},
   "outputs": [],
   "source": [
    "lr = LogisticRegression()"
   ]
  },
  {
   "cell_type": "code",
   "execution_count": 200,
   "metadata": {},
   "outputs": [
    {
     "name": "stderr",
     "output_type": "stream",
     "text": [
      "/opt/anaconda3/lib/python3.6/site-packages/sklearn/utils/validation.py:760: DataConversionWarning: A column-vector y was passed when a 1d array was expected. Please change the shape of y to (n_samples, ), for example using ravel().\n",
      "  y = column_or_1d(y, warn=True)\n"
     ]
    },
    {
     "name": "stdout",
     "output_type": "stream",
     "text": [
      "testing time: 7.238\n"
     ]
    },
    {
     "name": "stderr",
     "output_type": "stream",
     "text": [
      "/opt/anaconda3/lib/python3.6/site-packages/sklearn/linear_model/_logistic.py:940: ConvergenceWarning: lbfgs failed to converge (status=1):\n",
      "STOP: TOTAL NO. of ITERATIONS REACHED LIMIT.\n",
      "\n",
      "Increase the number of iterations (max_iter) or scale the data as shown in:\n",
      "    https://scikit-learn.org/stable/modules/preprocessing.html\n",
      "Please also refer to the documentation for alternative solver options:\n",
      "    https://scikit-learn.org/stable/modules/linear_model.html#logistic-regression\n",
      "  extra_warning_msg=_LOGISTIC_SOLVER_CONVERGENCE_MSG)\n"
     ]
    }
   ],
   "source": [
    "start_time_test = time.perf_counter()\n",
    "lr.fit(x_train.flatten().reshape(60000,784),y_train.reshape(60000,1))\n",
    "end_time_test = time.perf_counter()\n",
    "total_time_test = round(end_time_test - start_time_test, 3)\n",
    "print('testing time:',total_time_test)"
   ]
  },
  {
   "cell_type": "code",
   "execution_count": 24,
   "metadata": {},
   "outputs": [
    {
     "data": {
      "text/plain": [
       "0.9339166666666666"
      ]
     },
     "execution_count": 24,
     "metadata": {},
     "output_type": "execute_result"
    }
   ],
   "source": [
    "lr.score(x_train.flatten().reshape(60000,784),y_train.reshape(60000,1))"
   ]
  },
  {
   "cell_type": "code",
   "execution_count": 25,
   "metadata": {},
   "outputs": [
    {
     "data": {
      "text/plain": [
       "0.9255"
      ]
     },
     "execution_count": 25,
     "metadata": {},
     "output_type": "execute_result"
    }
   ],
   "source": [
    "lr.score(x_test.flatten().reshape(10000,784),y_test.reshape(10000,1))"
   ]
  },
  {
   "cell_type": "code",
   "execution_count": 27,
   "metadata": {},
   "outputs": [
    {
     "name": "stdout",
     "output_type": "stream",
     "text": [
      "test error of Logistic Regression  0.0745\n"
     ]
    }
   ],
   "source": [
    "print('test error of Logistic Regression ',round(1-0.9255,4))"
   ]
  },
  {
   "cell_type": "code",
   "execution_count": 28,
   "metadata": {},
   "outputs": [],
   "source": [
    "from sklearn.metrics import confusion_matrix"
   ]
  },
  {
   "cell_type": "code",
   "execution_count": 201,
   "metadata": {},
   "outputs": [
    {
     "name": "stdout",
     "output_type": "stream",
     "text": [
      "testing time: 0.04\n"
     ]
    }
   ],
   "source": [
    "start_time_test = time.perf_counter()\n",
    "y_predict = lr.predict(x_test.flatten().reshape(10000,784))\n",
    "end_time_test = time.perf_counter()\n",
    "total_time_test = round(end_time_test - start_time_test, 3)\n",
    "print('testing time:',total_time_test)"
   ]
  },
  {
   "cell_type": "code",
   "execution_count": 143,
   "metadata": {},
   "outputs": [
    {
     "data": {
      "text/plain": [
       "array([[9.83e-01, 0.00e+00, 0.00e+00, 2.97e-03, 1.02e-03, 3.36e-03,\n",
       "        4.18e-03, 3.89e-03, 2.05e-03, 0.00e+00],\n",
       "       [0.00e+00, 9.80e-01, 3.88e-03, 1.98e-03, 0.00e+00, 1.12e-03,\n",
       "        3.13e-03, 1.95e-03, 1.13e-02, 0.00e+00],\n",
       "       [3.06e-03, 8.81e-03, 8.97e-01, 1.49e-02, 6.11e-03, 4.48e-03,\n",
       "        1.57e-02, 7.78e-03, 4.31e-02, 2.97e-03],\n",
       "       [4.08e-03, 8.81e-04, 2.03e-02, 9.07e-01, 1.02e-03, 2.91e-02,\n",
       "        3.13e-03, 8.75e-03, 2.26e-02, 6.94e-03],\n",
       "       [1.02e-03, 8.81e-04, 6.78e-03, 2.97e-03, 9.27e-01, 0.00e+00,\n",
       "        9.39e-03, 6.81e-03, 1.03e-02, 3.37e-02],\n",
       "       [1.12e-02, 1.76e-03, 9.69e-04, 3.27e-02, 1.12e-02, 8.70e-01,\n",
       "        1.15e-02, 5.84e-03, 3.59e-02, 5.95e-03],\n",
       "       [9.18e-03, 2.64e-03, 6.78e-03, 2.97e-03, 7.13e-03, 1.79e-02,\n",
       "        9.50e-01, 1.95e-03, 1.03e-03, 0.00e+00],\n",
       "       [1.02e-03, 5.29e-03, 2.33e-02, 4.95e-03, 7.13e-03, 1.12e-03,\n",
       "        0.00e+00, 9.25e-01, 3.08e-03, 2.97e-02],\n",
       "       [8.16e-03, 6.17e-03, 5.81e-03, 2.28e-02, 6.11e-03, 2.91e-02,\n",
       "        1.04e-02, 9.73e-03, 8.92e-01, 8.92e-03],\n",
       "       [9.18e-03, 6.17e-03, 0.00e+00, 1.09e-02, 2.55e-02, 6.73e-03,\n",
       "        0.00e+00, 2.14e-02, 7.19e-03, 9.14e-01]])"
      ]
     },
     "execution_count": 143,
     "metadata": {},
     "output_type": "execute_result"
    }
   ],
   "source": [
    "confusion_table = confusion_matrix(y_test.reshape(10000,1), y_predict)\n",
    "confusion_table = confusion_table/np.sum(confusion_table,axis=1)\n",
    "confusion_table"
   ]
  },
  {
   "cell_type": "code",
   "execution_count": 144,
   "metadata": {},
   "outputs": [
    {
     "name": "stdout",
     "output_type": "stream",
     "text": [
      "              precision    recall  f1-score   support\n",
      "\n",
      "         0.0       0.95      0.98      0.97       980\n",
      "         1.0       0.97      0.98      0.97      1135\n",
      "         2.0       0.93      0.90      0.91      1032\n",
      "         3.0       0.90      0.91      0.91      1010\n",
      "         4.0       0.93      0.93      0.93       982\n",
      "         5.0       0.90      0.87      0.89       892\n",
      "         6.0       0.94      0.95      0.95       958\n",
      "         7.0       0.93      0.93      0.93      1028\n",
      "         8.0       0.87      0.89      0.88       974\n",
      "         9.0       0.91      0.91      0.91      1009\n",
      "\n",
      "    accuracy                           0.93     10000\n",
      "   macro avg       0.92      0.92      0.92     10000\n",
      "weighted avg       0.93      0.93      0.93     10000\n",
      "\n"
     ]
    }
   ],
   "source": [
    "from sklearn.metrics import classification_report\n",
    "print(classification_report(y_test,y_predict))"
   ]
  },
  {
   "cell_type": "code",
   "execution_count": 173,
   "metadata": {},
   "outputs": [
    {
     "data": {
      "image/png": "[encoded data removed]",
      "text/plain": [
       "<Figure size 720x576 with 2 Axes>"
      ]
     },
     "metadata": {
      "needs_background": "light"
     },
     "output_type": "display_data"
    }
   ],
   "source": [
    "import seaborn as sns\n",
    "plt.figure(figsize = (10,8))\n",
    "np.set_printoptions(precision=2)\n",
    "ax = sns.heatmap(confusion_table.round(2), annot=True,cmap='Blues')\n",
    "bottom, top = ax.get_ylim()\n",
    "ax.set_ylim(bottom + 1, top - 1)\n",
    "plt.tight_layout()\n",
    "plt.ylabel('True label')\n",
    "plt.xlabel('Predicted label')\n",
    "plt.title('Normalized Confusion Matrix for Logistic Regression')\n",
    "plt.savefig('Normalized Confusion Matrix for Logistic Regression.png')\n",
    "plt.show()"
   ]
  },
  {
   "cell_type": "markdown",
   "metadata": {},
   "source": [
    "# Apply Decision Tree"
   ]
  },
  {
   "cell_type": "code",
   "execution_count": 203,
   "metadata": {},
   "outputs": [],
   "source": [
    "from sklearn import tree\n",
    "clf = tree.DecisionTreeClassifier()"
   ]
  },
  {
   "cell_type": "code",
   "execution_count": 205,
   "metadata": {},
   "outputs": [
    {
     "name": "stdout",
     "output_type": "stream",
     "text": [
      "testing time: 20.212\n"
     ]
    }
   ],
   "source": [
    "start_time_test = time.perf_counter()\n",
    "clf = clf.fit(x_train.flatten().reshape(60000,784),y_train.reshape(60000,1))\n",
    "end_time_test = time.perf_counter()\n",
    "total_time_test = round(end_time_test - start_time_test, 3)\n",
    "print('testing time:',total_time_test)"
   ]
  },
  {
   "cell_type": "code",
   "execution_count": 206,
   "metadata": {},
   "outputs": [
    {
     "name": "stdout",
     "output_type": "stream",
     "text": [
      "testing time: 0.04\n"
     ]
    }
   ],
   "source": [
    "start_time_test = time.perf_counter()\n",
    "y_pred = clf.predict(x_test.flatten().reshape(10000,784))\n",
    "end_time_test = time.perf_counter()\n",
    "total_time_test = round(end_time_test - start_time_test, 3)\n",
    "print('testing time:',total_time_test)"
   ]
  },
  {
   "cell_type": "code",
   "execution_count": 159,
   "metadata": {},
   "outputs": [
    {
     "name": "stdout",
     "output_type": "stream",
     "text": [
      "accuracy of decision tree is:  0.878\n"
     ]
    }
   ],
   "source": [
    "from sklearn.metrics import accuracy_score\n",
    "print(\"accuracy of decision tree is: \",(accuracy_score(y_test.reshape(10000,1),y_pred).round(3)))"
   ]
  },
  {
   "cell_type": "code",
   "execution_count": 161,
   "metadata": {},
   "outputs": [
    {
     "data": {
      "text/plain": [
       "array([[0.93, 0.  , 0.01, 0.01, 0.  , 0.01, 0.01, 0.  , 0.01, 0.01],\n",
       "       [0.  , 0.96, 0.01, 0.01, 0.  , 0.01, 0.01, 0.  , 0.01, 0.  ],\n",
       "       [0.01, 0.01, 0.84, 0.04, 0.01, 0.01, 0.01, 0.03, 0.02, 0.01],\n",
       "       [0.01, 0.  , 0.03, 0.86, 0.01, 0.04, 0.  , 0.01, 0.02, 0.02],\n",
       "       [0.01, 0.  , 0.01, 0.  , 0.88, 0.01, 0.02, 0.01, 0.02, 0.04],\n",
       "       [0.02, 0.  , 0.01, 0.05, 0.01, 0.83, 0.03, 0.  , 0.02, 0.01],\n",
       "       [0.02, 0.01, 0.01, 0.01, 0.02, 0.02, 0.88, 0.  , 0.03, 0.01],\n",
       "       [0.  , 0.01, 0.02, 0.02, 0.01, 0.01, 0.  , 0.9 , 0.01, 0.02],\n",
       "       [0.01, 0.  , 0.02, 0.04, 0.02, 0.03, 0.02, 0.01, 0.82, 0.03],\n",
       "       [0.01, 0.  , 0.01, 0.02, 0.04, 0.01, 0.01, 0.02, 0.02, 0.85]])"
      ]
     },
     "execution_count": 161,
     "metadata": {},
     "output_type": "execute_result"
    }
   ],
   "source": [
    "confusion_table = confusion_matrix(y_test.reshape(10000,1), y_pred)\n",
    "confusion_table = confusion_table/np.sum(confusion_table,axis=1)\n",
    "confusion_table"
   ]
  },
  {
   "cell_type": "code",
   "execution_count": 162,
   "metadata": {},
   "outputs": [
    {
     "name": "stdout",
     "output_type": "stream",
     "text": [
      "              precision    recall  f1-score   support\n",
      "\n",
      "         0.0       0.91      0.93      0.92       980\n",
      "         1.0       0.95      0.96      0.96      1135\n",
      "         2.0       0.87      0.84      0.86      1032\n",
      "         3.0       0.81      0.86      0.83      1010\n",
      "         4.0       0.89      0.88      0.88       982\n",
      "         5.0       0.84      0.83      0.83       892\n",
      "         6.0       0.89      0.88      0.89       958\n",
      "         7.0       0.92      0.90      0.91      1028\n",
      "         8.0       0.84      0.82      0.83       974\n",
      "         9.0       0.85      0.85      0.85      1009\n",
      "\n",
      "    accuracy                           0.88     10000\n",
      "   macro avg       0.88      0.88      0.88     10000\n",
      "weighted avg       0.88      0.88      0.88     10000\n",
      "\n"
     ]
    }
   ],
   "source": [
    "print(classification_report(y_test,y_pred))"
   ]
  },
  {
   "cell_type": "code",
   "execution_count": 176,
   "metadata": {},
   "outputs": [
    {
     "data": {
      "image/png": "[encoded data removed]",
      "text/plain": [
       "<Figure size 720x576 with 2 Axes>"
      ]
     },
     "metadata": {
      "needs_background": "light"
     },
     "output_type": "display_data"
    }
   ],
   "source": [
    "import seaborn as sns\n",
    "plt.figure(figsize = (10,8))\n",
    "np.set_printoptions(precision=2)\n",
    "ax = sns.heatmap(confusion_table.round(2), annot=True,cmap='Blues')\n",
    "bottom, top = ax.get_ylim()\n",
    "ax.set_ylim(bottom + 0.5, top - 0.5)\n",
    "plt.tight_layout()\n",
    "plt.ylabel('True label')\n",
    "plt.xlabel('Predicted label')\n",
    "plt.title('Normalized Confusion Matrix for Decision Tree.png')\n",
    "plt.show()"
   ]
  },
  {
   "cell_type": "markdown",
   "metadata": {},
   "source": [
    "# Try to decompose data using PCA"
   ]
  },
  {
   "cell_type": "code",
   "execution_count": 209,
   "metadata": {},
   "outputs": [],
   "source": [
    "from sklearn.decomposition import PCA"
   ]
  },
  {
   "cell_type": "code",
   "execution_count": 211,
   "metadata": {},
   "outputs": [
    {
     "data": {
      "text/plain": [
       "PCA(copy=True, iterated_power='auto', n_components=2, random_state=None,\n",
       "    svd_solver='auto', tol=0.0, whiten=False)"
      ]
     },
     "execution_count": 211,
     "metadata": {},
     "output_type": "execute_result"
    }
   ],
   "source": [
    "pca = PCA(n_components=2)\n",
    "pca.fit(x_train.flatten().reshape(60000,784))"
   ]
  },
  {
   "cell_type": "code",
   "execution_count": 212,
   "metadata": {},
   "outputs": [
    {
     "name": "stdout",
     "output_type": "stream",
     "text": [
      "[0.1  0.07]\n"
     ]
    }
   ],
   "source": [
    "print(pca.explained_variance_ratio_)"
   ]
  },
  {
   "cell_type": "code",
   "execution_count": 213,
   "metadata": {},
   "outputs": [
    {
     "name": "stdout",
     "output_type": "stream",
     "text": [
      "[141291.   120817.19]\n"
     ]
    }
   ],
   "source": [
    "print(pca.singular_values_)"
   ]
  },
  {
   "cell_type": "code",
   "execution_count": 214,
   "metadata": {},
   "outputs": [],
   "source": [
    "x_train_tr = pca.transform = pca.transform(x_train.flatten().reshape(60000,784))"
   ]
  },
  {
   "cell_type": "code",
   "execution_count": null,
   "metadata": {},
   "outputs": [],
   "source": [
    "# try different components and inspect variance\n",
    "n_components = np.arange(499)+1\n",
    "\n",
    "variance = []\n",
    "for n in n_components:\n",
    "    pca = PCA(n_components = n)\n",
    "    pca.fit(x_train.flatten().reshape(60000,784))\n",
    "    variance.append(sum(pca.explained_variance_ratio_))\n",
    "    \n",
    "results = pd.DataFrame()\n",
    "results['n_components'] = n_components\n",
    "reuslts['variance'] = variance\n",
    "results"
   ]
  },
  {
   "cell_type": "code",
   "execution_count": 223,
   "metadata": {},
   "outputs": [
    {
     "data": {
      "text/html": [
       "<div>\n",
       "<style scoped>\n",
       "    .dataframe tbody tr th:only-of-type {\n",
       "        vertical-align: middle;\n",
       "    }\n",
       "\n",
       "    .dataframe tbody tr th {\n",
       "        vertical-align: top;\n",
       "    }\n",
       "\n",
       "    .dataframe thead th {\n",
       "        text-align: right;\n",
       "    }\n",
       "</style>\n",
       "<table border=\"1\" class=\"dataframe\">\n",
       "  <thead>\n",
       "    <tr style=\"text-align: right;\">\n",
       "      <th></th>\n",
       "      <th>n_components</th>\n",
       "    </tr>\n",
       "  </thead>\n",
       "  <tbody>\n",
       "    <tr>\n",
       "      <td>0</td>\n",
       "      <td>1</td>\n",
       "    </tr>\n",
       "    <tr>\n",
       "      <td>1</td>\n",
       "      <td>2</td>\n",
       "    </tr>\n",
       "    <tr>\n",
       "      <td>2</td>\n",
       "      <td>3</td>\n",
       "    </tr>\n",
       "    <tr>\n",
       "      <td>3</td>\n",
       "      <td>4</td>\n",
       "    </tr>\n",
       "    <tr>\n",
       "      <td>4</td>\n",
       "      <td>5</td>\n",
       "    </tr>\n",
       "    <tr>\n",
       "      <td>...</td>\n",
       "      <td>...</td>\n",
       "    </tr>\n",
       "    <tr>\n",
       "      <td>494</td>\n",
       "      <td>495</td>\n",
       "    </tr>\n",
       "    <tr>\n",
       "      <td>495</td>\n",
       "      <td>496</td>\n",
       "    </tr>\n",
       "    <tr>\n",
       "      <td>496</td>\n",
       "      <td>497</td>\n",
       "    </tr>\n",
       "    <tr>\n",
       "      <td>497</td>\n",
       "      <td>498</td>\n",
       "    </tr>\n",
       "    <tr>\n",
       "      <td>498</td>\n",
       "      <td>499</td>\n",
       "    </tr>\n",
       "  </tbody>\n",
       "</table>\n",
       "<p>499 rows × 1 columns</p>\n",
       "</div>"
      ],
      "text/plain": [
       "     n_components\n",
       "0               1\n",
       "1               2\n",
       "2               3\n",
       "3               4\n",
       "4               5\n",
       "..            ...\n",
       "494           495\n",
       "495           496\n",
       "496           497\n",
       "497           498\n",
       "498           499\n",
       "\n",
       "[499 rows x 1 columns]"
      ]
     },
     "execution_count": 223,
     "metadata": {},
     "output_type": "execute_result"
    }
   ],
   "source": [
    "results"
   ]
  },
  {
   "cell_type": "code",
   "execution_count": 225,
   "metadata": {},
   "outputs": [
    {
     "data": {
      "text/html": [
       "<div>\n",
       "<style scoped>\n",
       "    .dataframe tbody tr th:only-of-type {\n",
       "        vertical-align: middle;\n",
       "    }\n",
       "\n",
       "    .dataframe tbody tr th {\n",
       "        vertical-align: top;\n",
       "    }\n",
       "\n",
       "    .dataframe thead th {\n",
       "        text-align: right;\n",
       "    }\n",
       "</style>\n",
       "<table border=\"1\" class=\"dataframe\">\n",
       "  <thead>\n",
       "    <tr style=\"text-align: right;\">\n",
       "      <th></th>\n",
       "      <th>n_components</th>\n",
       "      <th>variance</th>\n",
       "    </tr>\n",
       "  </thead>\n",
       "  <tbody>\n",
       "    <tr>\n",
       "      <td>0</td>\n",
       "      <td>1</td>\n",
       "      <td>0.097047</td>\n",
       "    </tr>\n",
       "    <tr>\n",
       "      <td>1</td>\n",
       "      <td>2</td>\n",
       "      <td>0.168006</td>\n",
       "    </tr>\n",
       "    <tr>\n",
       "      <td>2</td>\n",
       "      <td>3</td>\n",
       "      <td>0.229697</td>\n",
       "    </tr>\n",
       "  </tbody>\n",
       "</table>\n",
       "</div>"
      ],
      "text/plain": [
       "   n_components  variance\n",
       "0             1  0.097047\n",
       "1             2  0.168006\n",
       "2             3  0.229697"
      ]
     },
     "execution_count": 225,
     "metadata": {},
     "output_type": "execute_result"
    }
   ],
   "source": [
    "results['variance'] = variance\n",
    "results.head(3)"
   ]
  },
  {
   "cell_type": "code",
   "execution_count": 227,
   "metadata": {},
   "outputs": [
    {
     "data": {
      "text/plain": [
       "<matplotlib.axes._subplots.AxesSubplot at 0x7fbb0ad505c0>"
      ]
     },
     "execution_count": 227,
     "metadata": {},
     "output_type": "execute_result"
    },
    {
     "data": {
      "image/png": "[encoded data removed]",
      "text/plain": [
       "<Figure size 432x288 with 1 Axes>"
      ]
     },
     "metadata": {
      "needs_background": "light"
     },
     "output_type": "display_data"
    }
   ],
   "source": [
    "results.plot.line(x='n_components',y='variance')"
   ]
  },
  {
   "cell_type": "code",
   "execution_count": 230,
   "metadata": {},
   "outputs": [
    {
     "name": "stderr",
     "output_type": "stream",
     "text": [
      "/opt/anaconda3/lib/python3.6/site-packages/ipykernel_launcher.py:12: DataConversionWarning: A column-vector y was passed when a 1d array was expected. Please change the shape of y to (n_samples, ), for example using ravel().\n",
      "  if sys.path[0] == '':\n",
      "/opt/anaconda3/lib/python3.6/site-packages/ipykernel_launcher.py:12: DataConversionWarning: A column-vector y was passed when a 1d array was expected. Please change the shape of y to (n_samples, ), for example using ravel().\n",
      "  if sys.path[0] == '':\n",
      "/opt/anaconda3/lib/python3.6/site-packages/ipykernel_launcher.py:12: DataConversionWarning: A column-vector y was passed when a 1d array was expected. Please change the shape of y to (n_samples, ), for example using ravel().\n",
      "  if sys.path[0] == '':\n",
      "/opt/anaconda3/lib/python3.6/site-packages/ipykernel_launcher.py:12: DataConversionWarning: A column-vector y was passed when a 1d array was expected. Please change the shape of y to (n_samples, ), for example using ravel().\n",
      "  if sys.path[0] == '':\n",
      "/opt/anaconda3/lib/python3.6/site-packages/ipykernel_launcher.py:12: DataConversionWarning: A column-vector y was passed when a 1d array was expected. Please change the shape of y to (n_samples, ), for example using ravel().\n",
      "  if sys.path[0] == '':\n",
      "/opt/anaconda3/lib/python3.6/site-packages/ipykernel_launcher.py:12: DataConversionWarning: A column-vector y was passed when a 1d array was expected. Please change the shape of y to (n_samples, ), for example using ravel().\n",
      "  if sys.path[0] == '':\n",
      "/opt/anaconda3/lib/python3.6/site-packages/ipykernel_launcher.py:12: DataConversionWarning: A column-vector y was passed when a 1d array was expected. Please change the shape of y to (n_samples, ), for example using ravel().\n",
      "  if sys.path[0] == '':\n",
      "/opt/anaconda3/lib/python3.6/site-packages/ipykernel_launcher.py:12: DataConversionWarning: A column-vector y was passed when a 1d array was expected. Please change the shape of y to (n_samples, ), for example using ravel().\n",
      "  if sys.path[0] == '':\n",
      "/opt/anaconda3/lib/python3.6/site-packages/ipykernel_launcher.py:12: DataConversionWarning: A column-vector y was passed when a 1d array was expected. Please change the shape of y to (n_samples, ), for example using ravel().\n",
      "  if sys.path[0] == '':\n",
      "/opt/anaconda3/lib/python3.6/site-packages/ipykernel_launcher.py:12: DataConversionWarning: A column-vector y was passed when a 1d array was expected. Please change the shape of y to (n_samples, ), for example using ravel().\n",
      "  if sys.path[0] == '':\n",
      "/opt/anaconda3/lib/python3.6/site-packages/ipykernel_launcher.py:12: DataConversionWarning: A column-vector y was passed when a 1d array was expected. Please change the shape of y to (n_samples, ), for example using ravel().\n",
      "  if sys.path[0] == '':\n",
      "/opt/anaconda3/lib/python3.6/site-packages/ipykernel_launcher.py:12: DataConversionWarning: A column-vector y was passed when a 1d array was expected. Please change the shape of y to (n_samples, ), for example using ravel().\n",
      "  if sys.path[0] == '':\n",
      "/opt/anaconda3/lib/python3.6/site-packages/ipykernel_launcher.py:12: DataConversionWarning: A column-vector y was passed when a 1d array was expected. Please change the shape of y to (n_samples, ), for example using ravel().\n",
      "  if sys.path[0] == '':\n",
      "/opt/anaconda3/lib/python3.6/site-packages/ipykernel_launcher.py:12: DataConversionWarning: A column-vector y was passed when a 1d array was expected. Please change the shape of y to (n_samples, ), for example using ravel().\n",
      "  if sys.path[0] == '':\n",
      "/opt/anaconda3/lib/python3.6/site-packages/ipykernel_launcher.py:12: DataConversionWarning: A column-vector y was passed when a 1d array was expected. Please change the shape of y to (n_samples, ), for example using ravel().\n",
      "  if sys.path[0] == '':\n",
      "/opt/anaconda3/lib/python3.6/site-packages/ipykernel_launcher.py:12: DataConversionWarning: A column-vector y was passed when a 1d array was expected. Please change the shape of y to (n_samples, ), for example using ravel().\n",
      "  if sys.path[0] == '':\n",
      "/opt/anaconda3/lib/python3.6/site-packages/ipykernel_launcher.py:12: DataConversionWarning: A column-vector y was passed when a 1d array was expected. Please change the shape of y to (n_samples, ), for example using ravel().\n",
      "  if sys.path[0] == '':\n",
      "/opt/anaconda3/lib/python3.6/site-packages/ipykernel_launcher.py:12: DataConversionWarning: A column-vector y was passed when a 1d array was expected. Please change the shape of y to (n_samples, ), for example using ravel().\n",
      "  if sys.path[0] == '':\n",
      "/opt/anaconda3/lib/python3.6/site-packages/ipykernel_launcher.py:12: DataConversionWarning: A column-vector y was passed when a 1d array was expected. Please change the shape of y to (n_samples, ), for example using ravel().\n",
      "  if sys.path[0] == '':\n",
      "/opt/anaconda3/lib/python3.6/site-packages/ipykernel_launcher.py:12: DataConversionWarning: A column-vector y was passed when a 1d array was expected. Please change the shape of y to (n_samples, ), for example using ravel().\n",
      "  if sys.path[0] == '':\n",
      "/opt/anaconda3/lib/python3.6/site-packages/ipykernel_launcher.py:12: DataConversionWarning: A column-vector y was passed when a 1d array was expected. Please change the shape of y to (n_samples, ), for example using ravel().\n",
      "  if sys.path[0] == '':\n",
      "/opt/anaconda3/lib/python3.6/site-packages/ipykernel_launcher.py:12: DataConversionWarning: A column-vector y was passed when a 1d array was expected. Please change the shape of y to (n_samples, ), for example using ravel().\n",
      "  if sys.path[0] == '':\n",
      "/opt/anaconda3/lib/python3.6/site-packages/ipykernel_launcher.py:12: DataConversionWarning: A column-vector y was passed when a 1d array was expected. Please change the shape of y to (n_samples, ), for example using ravel().\n",
      "  if sys.path[0] == '':\n",
      "/opt/anaconda3/lib/python3.6/site-packages/ipykernel_launcher.py:12: DataConversionWarning: A column-vector y was passed when a 1d array was expected. Please change the shape of y to (n_samples, ), for example using ravel().\n",
      "  if sys.path[0] == '':\n",
      "/opt/anaconda3/lib/python3.6/site-packages/ipykernel_launcher.py:12: DataConversionWarning: A column-vector y was passed when a 1d array was expected. Please change the shape of y to (n_samples, ), for example using ravel().\n",
      "  if sys.path[0] == '':\n"
     ]
    },
    {
     "data": {
      "text/html": [
       "<div>\n",
       "<style scoped>\n",
       "    .dataframe tbody tr th:only-of-type {\n",
       "        vertical-align: middle;\n",
       "    }\n",
       "\n",
       "    .dataframe tbody tr th {\n",
       "        vertical-align: top;\n",
       "    }\n",
       "\n",
       "    .dataframe thead th {\n",
       "        text-align: right;\n",
       "    }\n",
       "</style>\n",
       "<table border=\"1\" class=\"dataframe\">\n",
       "  <thead>\n",
       "    <tr style=\"text-align: right;\">\n",
       "      <th></th>\n",
       "      <th>n_components</th>\n",
       "      <th>train_score</th>\n",
       "      <th>test_score</th>\n",
       "    </tr>\n",
       "  </thead>\n",
       "  <tbody>\n",
       "    <tr>\n",
       "      <td>0</td>\n",
       "      <td>1</td>\n",
       "      <td>0.479617</td>\n",
       "      <td>0.2733</td>\n",
       "    </tr>\n",
       "    <tr>\n",
       "      <td>1</td>\n",
       "      <td>2</td>\n",
       "      <td>0.587950</td>\n",
       "      <td>0.4242</td>\n",
       "    </tr>\n",
       "    <tr>\n",
       "      <td>2</td>\n",
       "      <td>3</td>\n",
       "      <td>0.630550</td>\n",
       "      <td>0.4874</td>\n",
       "    </tr>\n",
       "    <tr>\n",
       "      <td>3</td>\n",
       "      <td>4</td>\n",
       "      <td>0.732267</td>\n",
       "      <td>0.6328</td>\n",
       "    </tr>\n",
       "    <tr>\n",
       "      <td>4</td>\n",
       "      <td>5</td>\n",
       "      <td>0.813633</td>\n",
       "      <td>0.7474</td>\n",
       "    </tr>\n",
       "    <tr>\n",
       "      <td>5</td>\n",
       "      <td>6</td>\n",
       "      <td>0.878350</td>\n",
       "      <td>0.8321</td>\n",
       "    </tr>\n",
       "    <tr>\n",
       "      <td>6</td>\n",
       "      <td>7</td>\n",
       "      <td>0.910483</td>\n",
       "      <td>0.8722</td>\n",
       "    </tr>\n",
       "    <tr>\n",
       "      <td>7</td>\n",
       "      <td>8</td>\n",
       "      <td>0.931917</td>\n",
       "      <td>0.9010</td>\n",
       "    </tr>\n",
       "    <tr>\n",
       "      <td>8</td>\n",
       "      <td>9</td>\n",
       "      <td>0.944167</td>\n",
       "      <td>0.9138</td>\n",
       "    </tr>\n",
       "    <tr>\n",
       "      <td>9</td>\n",
       "      <td>10</td>\n",
       "      <td>0.954500</td>\n",
       "      <td>0.9276</td>\n",
       "    </tr>\n",
       "    <tr>\n",
       "      <td>10</td>\n",
       "      <td>11</td>\n",
       "      <td>0.960533</td>\n",
       "      <td>0.9359</td>\n",
       "    </tr>\n",
       "    <tr>\n",
       "      <td>11</td>\n",
       "      <td>12</td>\n",
       "      <td>0.965683</td>\n",
       "      <td>0.9439</td>\n",
       "    </tr>\n",
       "    <tr>\n",
       "      <td>12</td>\n",
       "      <td>13</td>\n",
       "      <td>0.970100</td>\n",
       "      <td>0.9513</td>\n",
       "    </tr>\n",
       "    <tr>\n",
       "      <td>13</td>\n",
       "      <td>14</td>\n",
       "      <td>0.972800</td>\n",
       "      <td>0.9566</td>\n",
       "    </tr>\n",
       "    <tr>\n",
       "      <td>14</td>\n",
       "      <td>15</td>\n",
       "      <td>0.974317</td>\n",
       "      <td>0.9592</td>\n",
       "    </tr>\n",
       "    <tr>\n",
       "      <td>15</td>\n",
       "      <td>16</td>\n",
       "      <td>0.977267</td>\n",
       "      <td>0.9630</td>\n",
       "    </tr>\n",
       "    <tr>\n",
       "      <td>16</td>\n",
       "      <td>17</td>\n",
       "      <td>0.978667</td>\n",
       "      <td>0.9647</td>\n",
       "    </tr>\n",
       "    <tr>\n",
       "      <td>17</td>\n",
       "      <td>18</td>\n",
       "      <td>0.978917</td>\n",
       "      <td>0.9662</td>\n",
       "    </tr>\n",
       "    <tr>\n",
       "      <td>18</td>\n",
       "      <td>19</td>\n",
       "      <td>0.980517</td>\n",
       "      <td>0.9680</td>\n",
       "    </tr>\n",
       "    <tr>\n",
       "      <td>19</td>\n",
       "      <td>20</td>\n",
       "      <td>0.981067</td>\n",
       "      <td>0.9697</td>\n",
       "    </tr>\n",
       "    <tr>\n",
       "      <td>20</td>\n",
       "      <td>21</td>\n",
       "      <td>0.982183</td>\n",
       "      <td>0.9702</td>\n",
       "    </tr>\n",
       "    <tr>\n",
       "      <td>21</td>\n",
       "      <td>22</td>\n",
       "      <td>0.982500</td>\n",
       "      <td>0.9712</td>\n",
       "    </tr>\n",
       "    <tr>\n",
       "      <td>22</td>\n",
       "      <td>23</td>\n",
       "      <td>0.983100</td>\n",
       "      <td>0.9721</td>\n",
       "    </tr>\n",
       "    <tr>\n",
       "      <td>23</td>\n",
       "      <td>24</td>\n",
       "      <td>0.983567</td>\n",
       "      <td>0.9725</td>\n",
       "    </tr>\n",
       "    <tr>\n",
       "      <td>24</td>\n",
       "      <td>25</td>\n",
       "      <td>0.983617</td>\n",
       "      <td>0.9737</td>\n",
       "    </tr>\n",
       "  </tbody>\n",
       "</table>\n",
       "</div>"
      ],
      "text/plain": [
       "    n_components  train_score  test_score\n",
       "0              1     0.479617      0.2733\n",
       "1              2     0.587950      0.4242\n",
       "2              3     0.630550      0.4874\n",
       "3              4     0.732267      0.6328\n",
       "4              5     0.813633      0.7474\n",
       "5              6     0.878350      0.8321\n",
       "6              7     0.910483      0.8722\n",
       "7              8     0.931917      0.9010\n",
       "8              9     0.944167      0.9138\n",
       "9             10     0.954500      0.9276\n",
       "10            11     0.960533      0.9359\n",
       "11            12     0.965683      0.9439\n",
       "12            13     0.970100      0.9513\n",
       "13            14     0.972800      0.9566\n",
       "14            15     0.974317      0.9592\n",
       "15            16     0.977267      0.9630\n",
       "16            17     0.978667      0.9647\n",
       "17            18     0.978917      0.9662\n",
       "18            19     0.980517      0.9680\n",
       "19            20     0.981067      0.9697\n",
       "20            21     0.982183      0.9702\n",
       "21            22     0.982500      0.9712\n",
       "22            23     0.983100      0.9721\n",
       "23            24     0.983567      0.9725\n",
       "24            25     0.983617      0.9737"
      ]
     },
     "execution_count": 230,
     "metadata": {},
     "output_type": "execute_result"
    }
   ],
   "source": [
    "# try different components and inspect accuracy\n",
    "n_components = np.arange(25)+1\n",
    "knn = KNeighborsClassifier()\n",
    "train_score = []\n",
    "test_score = []\n",
    "\n",
    "for n in n_components:\n",
    "    pca = PCA(n_components = n)\n",
    "    pca.fit(x_train.flatten().reshape(60000,784))\n",
    "    x_train_tr = pca.transform(x_train.flatten().reshape(60000,784))\n",
    "    x_test_tr = pca.transform(x_test.flatten().reshape(10000,784))\n",
    "    knn.fit(x_train_tr,y_train.reshape(60000,1))\n",
    "    train_score.append(knn.score(x_train_tr,y_train.reshape(60000,1)))\n",
    "    test_score.append(knn.score(x_test_tr,y_test.reshape(10000,1)))\n",
    "    \n",
    "accuracy = pd.DataFrame()\n",
    "accuracy['n_components'] = n_components\n",
    "accuracy['train_score'] = train_score\n",
    "accuracy['test_score'] = test_score\n",
    "accuracy"
   ]
  },
  {
   "cell_type": "code",
   "execution_count": 232,
   "metadata": {},
   "outputs": [
    {
     "data": {
      "text/plain": [
       "<matplotlib.axes._subplots.AxesSubplot at 0x7fbb0e836b00>"
      ]
     },
     "execution_count": 232,
     "metadata": {},
     "output_type": "execute_result"
    },
    {
     "data": {
      "image/png": "[encoded data removed]",
      "text/plain": [
       "<Figure size 432x288 with 1 Axes>"
      ]
     },
     "metadata": {
      "needs_background": "light"
     },
     "output_type": "display_data"
    }
   ],
   "source": [
    "ax1=accuracy.plot.line(x='n_components',y='train_score')\n",
    "accuracy.plot.line(x='n_components',y='test_score',ax=ax1)"
   ]
  },
  {
   "cell_type": "code",
   "execution_count": 241,
   "metadata": {},
   "outputs": [
    {
     "name": "stderr",
     "output_type": "stream",
     "text": [
      "/opt/anaconda3/lib/python3.6/site-packages/ipykernel_launcher.py:9: DataConversionWarning: A column-vector y was passed when a 1d array was expected. Please change the shape of y to (n_samples, ), for example using ravel().\n",
      "  if __name__ == '__main__':\n"
     ]
    },
    {
     "name": "stdout",
     "output_type": "stream",
     "text": [
      "training time: 0.248\n",
      "testing time: 0.04\n",
      "train error:  0.016416666666666635\n",
      "test error:  0.02639999999999998\n"
     ]
    }
   ],
   "source": [
    "# PCA + KNN\n",
    "pca = PCA(n_components=25)\n",
    "pca.fit(x_train.flatten().reshape(60000,784))\n",
    "x_train_tr = pca.transform(x_train.flatten().reshape(60000,784))\n",
    "x_test_tr = pca.transform(x_test.flatten().reshape(10000,784))\n",
    "\n",
    "start_time_train = time.perf_counter()\n",
    "\n",
    "knn.fit(x_train_tr,y_train.reshape(60000,1))\n",
    "\n",
    "end_time_train = time.perf_counter()\n",
    "total_time_train = round(end_time_train - start_time_train, 3)\n",
    "print('training time:',total_time_train)\n",
    "\n",
    "start_time_test = time.perf_counter()\n",
    "\n",
    "y_predict = knn.predict(x_test_tr)\n",
    "\n",
    "end_time_test = time.perf_counter()\n",
    "total_time_train = round(end_time_test - start_time_test, 3)\n",
    "print('testing time:',total_time_test)\n",
    "\n",
    "train_score = knn.score(x_train_tr,y_train.reshape(60000,1))\n",
    "test_score = knn.score(x_test_tr,y_test.reshape(10000,1))\n",
    "\n",
    "print('train error: ', 1-train_score)\n",
    "print('test error: ', 1- test_score)"
   ]
  },
  {
   "cell_type": "code",
   "execution_count": 235,
   "metadata": {},
   "outputs": [
    {
     "name": "stdout",
     "output_type": "stream",
     "text": [
      "test error 0.026\n"
     ]
    }
   ],
   "source": [
    "print('test error', round(1-test_score,3))"
   ]
  },
  {
   "cell_type": "code",
   "execution_count": 236,
   "metadata": {},
   "outputs": [
    {
     "data": {
      "text/plain": [
       "array([[9.92e-01, 8.81e-04, 9.69e-04, 0.00e+00, 0.00e+00, 1.12e-03,\n",
       "        4.18e-03, 9.73e-04, 0.00e+00, 0.00e+00],\n",
       "       [0.00e+00, 9.96e-01, 2.91e-03, 9.90e-04, 0.00e+00, 0.00e+00,\n",
       "        1.04e-03, 0.00e+00, 0.00e+00, 0.00e+00],\n",
       "       [7.14e-03, 8.81e-04, 9.75e-01, 0.00e+00, 1.02e-03, 0.00e+00,\n",
       "        3.13e-03, 8.75e-03, 5.13e-03, 0.00e+00],\n",
       "       [0.00e+00, 8.81e-04, 2.91e-03, 9.61e-01, 0.00e+00, 1.79e-02,\n",
       "        0.00e+00, 6.81e-03, 1.03e-02, 1.98e-03],\n",
       "       [0.00e+00, 0.00e+00, 0.00e+00, 0.00e+00, 9.71e-01, 0.00e+00,\n",
       "        6.26e-03, 1.95e-03, 0.00e+00, 1.98e-02],\n",
       "       [3.06e-03, 8.81e-04, 9.69e-04, 9.90e-03, 1.02e-03, 9.71e-01,\n",
       "        6.26e-03, 9.73e-04, 1.03e-03, 1.98e-03],\n",
       "       [2.04e-03, 2.64e-03, 0.00e+00, 0.00e+00, 3.05e-03, 1.12e-03,\n",
       "        9.91e-01, 0.00e+00, 0.00e+00, 0.00e+00],\n",
       "       [1.02e-03, 1.59e-02, 1.16e-02, 0.00e+00, 2.04e-03, 0.00e+00,\n",
       "        0.00e+00, 9.60e-01, 0.00e+00, 7.93e-03],\n",
       "       [3.06e-03, 0.00e+00, 1.94e-03, 1.39e-02, 2.04e-03, 5.61e-03,\n",
       "        2.09e-03, 2.92e-03, 9.64e-01, 3.96e-03],\n",
       "       [4.08e-03, 2.64e-03, 1.94e-03, 5.94e-03, 9.16e-03, 6.73e-03,\n",
       "        1.04e-03, 6.81e-03, 6.16e-03, 9.56e-01]])"
      ]
     },
     "execution_count": 236,
     "metadata": {},
     "output_type": "execute_result"
    }
   ],
   "source": [
    "confusion_table = confusion_matrix(y_test.reshape(10000,1), y_predict)\n",
    "confusion_table = confusion_table/np.sum(confusion_table,axis=1)\n",
    "confusion_table"
   ]
  },
  {
   "cell_type": "code",
   "execution_count": 242,
   "metadata": {},
   "outputs": [
    {
     "data": {
      "image/png": "[encoded data removed]",
      "text/plain": [
       "<Figure size 720x576 with 2 Axes>"
      ]
     },
     "metadata": {
      "needs_background": "light"
     },
     "output_type": "display_data"
    }
   ],
   "source": [
    "import seaborn as sns\n",
    "plt.figure(figsize = (10,8))\n",
    "np.set_printoptions(precision=2)\n",
    "ax = sns.heatmap(confusion_table.round(2), annot=True,cmap='Blues')\n",
    "bottom, top = ax.get_ylim()\n",
    "ax.set_ylim(bottom + 1, top - 1)\n",
    "plt.tight_layout()\n",
    "plt.ylabel('True label')\n",
    "plt.xlabel('Predicted label')\n",
    "plt.title('Normalized Confusion Matrix for PCA+KNN')\n",
    "plt.show()"
   ]
  },
  {
   "cell_type": "code",
   "execution_count": 239,
   "metadata": {},
   "outputs": [
    {
     "name": "stdout",
     "output_type": "stream",
     "text": [
      "              precision    recall  f1-score   support\n",
      "\n",
      "         0.0       0.98      0.99      0.99       980\n",
      "         1.0       0.98      1.00      0.99      1135\n",
      "         2.0       0.98      0.97      0.98      1032\n",
      "         3.0       0.97      0.96      0.97      1010\n",
      "         4.0       0.98      0.97      0.98       982\n",
      "         5.0       0.97      0.97      0.97       892\n",
      "         6.0       0.98      0.99      0.98       958\n",
      "         7.0       0.97      0.96      0.97      1028\n",
      "         8.0       0.98      0.96      0.97       974\n",
      "         9.0       0.96      0.96      0.96      1009\n",
      "\n",
      "    accuracy                           0.97     10000\n",
      "   macro avg       0.97      0.97      0.97     10000\n",
      "weighted avg       0.97      0.97      0.97     10000\n",
      "\n"
     ]
    }
   ],
   "source": [
    "print(classification_report(y_test,y_predict))"
   ]
  },
  {
   "cell_type": "code",
   "execution_count": 243,
   "metadata": {},
   "outputs": [
    {
     "name": "stderr",
     "output_type": "stream",
     "text": [
      "/opt/anaconda3/lib/python3.6/site-packages/ipykernel_launcher.py:10: DataConversionWarning: A column-vector y was passed when a 1d array was expected. Please change the shape of y to (n_samples, ), for example using ravel().\n",
      "  # Remove the CWD from sys.path while we load stuff.\n"
     ]
    },
    {
     "name": "stdout",
     "output_type": "stream",
     "text": [
      "training time: 0.249\n",
      "testing time: 0.04\n",
      "train error:  0.0\n",
      "test error:  0.029100000000000015\n"
     ]
    }
   ],
   "source": [
    "knn = KNeighborsClassifier(n_neighbors=1)\n",
    "# PCA + KNN\n",
    "pca = PCA(n_components=25)\n",
    "pca.fit(x_train.flatten().reshape(60000,784))\n",
    "x_train_tr = pca.transform(x_train.flatten().reshape(60000,784))\n",
    "x_test_tr = pca.transform(x_test.flatten().reshape(10000,784))\n",
    "\n",
    "start_time_train = time.perf_counter()\n",
    "\n",
    "knn.fit(x_train_tr,y_train.reshape(60000,1))\n",
    "\n",
    "end_time_train = time.perf_counter()\n",
    "total_time_train = round(end_time_train - start_time_train, 3)\n",
    "print('training time:',total_time_train)\n",
    "\n",
    "start_time_test = time.perf_counter()\n",
    "\n",
    "y_predict = knn.predict(x_test_tr)\n",
    "\n",
    "end_time_test = time.perf_counter()\n",
    "total_time_train = round(end_time_test - start_time_test, 3)\n",
    "print('testing time:',total_time_test)\n",
    "\n",
    "train_score = knn.score(x_train_tr,y_train.reshape(60000,1))\n",
    "test_score = knn.score(x_test_tr,y_test.reshape(10000,1))\n",
    "\n",
    "print('train error: ', 1-train_score)\n",
    "print('test error: ', 1- test_score)"
   ]
  },
  {
   "cell_type": "markdown",
   "metadata": {},
   "source": [
    "## Analyze Eigenfaces"
   ]
  },
  {
   "cell_type": "code",
   "execution_count": 273,
   "metadata": {},
   "outputs": [
    {
     "data": {
      "text/plain": [
       "array([[ 123.93, -312.67,  -24.51, ..., -218.05,  250.72,   44.6 ],\n",
       "       [1011.72, -294.86,  596.34, ...,   -1.15,   19.28,  231.67],\n",
       "       [ -51.85,  392.17, -188.51, ...,  120.2 ,   -9.25, -123.78],\n",
       "       ...,\n",
       "       [-178.05,  160.08, -257.61, ..., -206.11,  -67.32, -368.85],\n",
       "       [ 130.61,   -5.59,  513.86, ...,  -42.11,  -91.26,  150.81],\n",
       "       [-173.44,  -24.72,  556.02, ..., -121.08, -134.93,  -75.12]])"
      ]
     },
     "execution_count": 273,
     "metadata": {},
     "output_type": "execute_result"
    }
   ],
   "source": [
    "x_train_tr"
   ]
  },
  {
   "cell_type": "code",
   "execution_count": 268,
   "metadata": {},
   "outputs": [
    {
     "name": "stdout",
     "output_type": "stream",
     "text": [
      "(784,)\n"
     ]
    },
    {
     "data": {
      "text/plain": [
       "<matplotlib.image.AxesImage at 0x7fbb0ce067f0>"
      ]
     },
     "execution_count": 268,
     "metadata": {},
     "output_type": "execute_result"
    },
    {
     "data": {
      "image/png": "[encoded data removed]",
      "text/plain": [
       "<Figure size 432x288 with 1 Axes>"
      ]
     },
     "metadata": {
      "needs_background": "light"
     },
     "output_type": "display_data"
    }
   ],
   "source": [
    "reconstructed = pca.inverse_transform(x_train_tr[0])\n",
    "print(reconstructed.shape)\n",
    "plt.imshow(reconstructed.reshape(28,28),cmap = plt.cm.gray)"
   ]
  },
  {
   "cell_type": "code",
   "execution_count": 267,
   "metadata": {},
   "outputs": [
    {
     "data": {
      "text/plain": [
       "<matplotlib.image.AxesImage at 0x7fbb0ce32438>"
      ]
     },
     "execution_count": 267,
     "metadata": {},
     "output_type": "execute_result"
    },
    {
     "data": {
      "image/png": "[encoded data removed]",
      "text/plain": [
       "<Figure size 432x288 with 1 Axes>"
      ]
     },
     "metadata": {
      "needs_background": "light"
     },
     "output_type": "display_data"
    }
   ],
   "source": [
    "plt.imshow(x_train[0,:,:],cmap = plt.cm.gray)"
   ]
  },
  {
   "cell_type": "code",
   "execution_count": 294,
   "metadata": {},
   "outputs": [
    {
     "data": {
      "text/html": [
       "<div>\n",
       "<style scoped>\n",
       "    .dataframe tbody tr th:only-of-type {\n",
       "        vertical-align: middle;\n",
       "    }\n",
       "\n",
       "    .dataframe tbody tr th {\n",
       "        vertical-align: top;\n",
       "    }\n",
       "\n",
       "    .dataframe thead th {\n",
       "        text-align: right;\n",
       "    }\n",
       "</style>\n",
       "<table border=\"1\" class=\"dataframe\">\n",
       "  <thead>\n",
       "    <tr style=\"text-align: right;\">\n",
       "      <th></th>\n",
       "      <th>0</th>\n",
       "      <th>1</th>\n",
       "      <th>2</th>\n",
       "      <th>3</th>\n",
       "      <th>4</th>\n",
       "      <th>5</th>\n",
       "      <th>6</th>\n",
       "      <th>7</th>\n",
       "      <th>8</th>\n",
       "      <th>9</th>\n",
       "      <th>...</th>\n",
       "      <th>774</th>\n",
       "      <th>775</th>\n",
       "      <th>776</th>\n",
       "      <th>777</th>\n",
       "      <th>778</th>\n",
       "      <th>779</th>\n",
       "      <th>780</th>\n",
       "      <th>781</th>\n",
       "      <th>782</th>\n",
       "      <th>783</th>\n",
       "    </tr>\n",
       "  </thead>\n",
       "  <tbody>\n",
       "    <tr>\n",
       "      <td>0</td>\n",
       "      <td>-0.0</td>\n",
       "      <td>-0.0</td>\n",
       "      <td>-0.0</td>\n",
       "      <td>-0.0</td>\n",
       "      <td>0.0</td>\n",
       "      <td>0.0</td>\n",
       "      <td>0.0</td>\n",
       "      <td>0.0</td>\n",
       "      <td>-0.0</td>\n",
       "      <td>-0.0</td>\n",
       "      <td>...</td>\n",
       "      <td>-0.50</td>\n",
       "      <td>-0.31</td>\n",
       "      <td>-0.16</td>\n",
       "      <td>-0.09</td>\n",
       "      <td>-0.10</td>\n",
       "      <td>-0.02</td>\n",
       "      <td>0.0</td>\n",
       "      <td>0.0</td>\n",
       "      <td>0.0</td>\n",
       "      <td>0.0</td>\n",
       "    </tr>\n",
       "    <tr>\n",
       "      <td>1</td>\n",
       "      <td>-0.0</td>\n",
       "      <td>0.0</td>\n",
       "      <td>-0.0</td>\n",
       "      <td>-0.0</td>\n",
       "      <td>-0.0</td>\n",
       "      <td>-0.0</td>\n",
       "      <td>-0.0</td>\n",
       "      <td>0.0</td>\n",
       "      <td>-0.0</td>\n",
       "      <td>-0.0</td>\n",
       "      <td>...</td>\n",
       "      <td>-0.03</td>\n",
       "      <td>-0.08</td>\n",
       "      <td>-0.04</td>\n",
       "      <td>0.00</td>\n",
       "      <td>0.03</td>\n",
       "      <td>0.01</td>\n",
       "      <td>0.0</td>\n",
       "      <td>0.0</td>\n",
       "      <td>0.0</td>\n",
       "      <td>0.0</td>\n",
       "    </tr>\n",
       "    <tr>\n",
       "      <td>2</td>\n",
       "      <td>0.0</td>\n",
       "      <td>-0.0</td>\n",
       "      <td>-0.0</td>\n",
       "      <td>0.0</td>\n",
       "      <td>0.0</td>\n",
       "      <td>-0.0</td>\n",
       "      <td>0.0</td>\n",
       "      <td>0.0</td>\n",
       "      <td>0.0</td>\n",
       "      <td>-0.0</td>\n",
       "      <td>...</td>\n",
       "      <td>2.05</td>\n",
       "      <td>0.98</td>\n",
       "      <td>0.49</td>\n",
       "      <td>0.16</td>\n",
       "      <td>0.11</td>\n",
       "      <td>0.01</td>\n",
       "      <td>0.0</td>\n",
       "      <td>0.0</td>\n",
       "      <td>0.0</td>\n",
       "      <td>0.0</td>\n",
       "    </tr>\n",
       "  </tbody>\n",
       "</table>\n",
       "<p>3 rows × 784 columns</p>\n",
       "</div>"
      ],
      "text/plain": [
       "   0    1    2    3    4    5    6    7    8    9    ...   774   775   776  \\\n",
       "0 -0.0 -0.0 -0.0 -0.0  0.0  0.0  0.0  0.0 -0.0 -0.0  ... -0.50 -0.31 -0.16   \n",
       "1 -0.0  0.0 -0.0 -0.0 -0.0 -0.0 -0.0  0.0 -0.0 -0.0  ... -0.03 -0.08 -0.04   \n",
       "2  0.0 -0.0 -0.0  0.0  0.0 -0.0  0.0  0.0  0.0 -0.0  ...  2.05  0.98  0.49   \n",
       "\n",
       "    777   778   779  780  781  782  783  \n",
       "0 -0.09 -0.10 -0.02  0.0  0.0  0.0  0.0  \n",
       "1  0.00  0.03  0.01  0.0  0.0  0.0  0.0  \n",
       "2  0.16  0.11  0.01  0.0  0.0  0.0  0.0  \n",
       "\n",
       "[3 rows x 784 columns]"
      ]
     },
     "execution_count": 294,
     "metadata": {},
     "output_type": "execute_result"
    }
   ],
   "source": [
    "recon = pca.inverse_transform(x_train_tr)\n",
    "recon_df = pd.DataFrame.from_records(recon)\n",
    "recon_df.head(3).round(2)"
   ]
  },
  {
   "cell_type": "code",
   "execution_count": 295,
   "metadata": {},
   "outputs": [],
   "source": [
    "recon_df['label'] = y_train"
   ]
  },
  {
   "cell_type": "code",
   "execution_count": 302,
   "metadata": {},
   "outputs": [
    {
     "data": {
      "text/plain": [
       "dtype('float64')"
      ]
     },
     "execution_count": 302,
     "metadata": {},
     "output_type": "execute_result"
    }
   ],
   "source": [
    "recon_df['label'].dtype"
   ]
  },
  {
   "cell_type": "code",
   "execution_count": 336,
   "metadata": {},
   "outputs": [
    {
     "data": {
      "text/plain": [
       "375    176.919689\n",
       "374    174.080594\n",
       "347    169.377670\n",
       "346    167.880527\n",
       "376    159.325136\n",
       "          ...    \n",
       "66      -0.655182\n",
       "92      -0.933733\n",
       "95      -1.184061\n",
       "93      -1.387122\n",
       "94      -1.612986\n",
       "Length: 785, dtype: float64"
      ]
     },
     "execution_count": 336,
     "metadata": {},
     "output_type": "execute_result"
    }
   ],
   "source": [
    "# See the importance of 5\n",
    "recon_five = recon_df[recon_df.label == 5]\n",
    "recon_five.mean().sort_values(ascending=False)"
   ]
  },
  {
   "cell_type": "code",
   "execution_count": 359,
   "metadata": {},
   "outputs": [
    {
     "data": {
      "text/plain": [
       "<matplotlib.image.AxesImage at 0x7fbb0cea4080>"
      ]
     },
     "execution_count": 359,
     "metadata": {},
     "output_type": "execute_result"
    },
    {
     "data": {
      "image/png": "[encoded data removed]",
      "text/plain": [
       "<Figure size 432x288 with 1 Axes>"
      ]
     },
     "metadata": {
      "needs_background": "light"
     },
     "output_type": "display_data"
    }
   ],
   "source": [
    "plt.imshow(recon_five.mean()[0:-1].to_numpy().reshape(28,28),cmap = plt.cm.gray)"
   ]
  },
  {
   "cell_type": "markdown",
   "metadata": {},
   "source": [
    "## Deeper analysis on choosing the right component for PCA"
   ]
  },
  {
   "cell_type": "code",
   "execution_count": 425,
   "metadata": {},
   "outputs": [
    {
     "name": "stderr",
     "output_type": "stream",
     "text": [
      "/opt/anaconda3/lib/python3.6/site-packages/ipykernel_launcher.py:17: DataConversionWarning: A column-vector y was passed when a 1d array was expected. Please change the shape of y to (n_samples, ), for example using ravel().\n",
      "/opt/anaconda3/lib/python3.6/site-packages/ipykernel_launcher.py:17: DataConversionWarning: A column-vector y was passed when a 1d array was expected. Please change the shape of y to (n_samples, ), for example using ravel().\n",
      "/opt/anaconda3/lib/python3.6/site-packages/ipykernel_launcher.py:17: DataConversionWarning: A column-vector y was passed when a 1d array was expected. Please change the shape of y to (n_samples, ), for example using ravel().\n",
      "/opt/anaconda3/lib/python3.6/site-packages/ipykernel_launcher.py:17: DataConversionWarning: A column-vector y was passed when a 1d array was expected. Please change the shape of y to (n_samples, ), for example using ravel().\n",
      "/opt/anaconda3/lib/python3.6/site-packages/ipykernel_launcher.py:17: DataConversionWarning: A column-vector y was passed when a 1d array was expected. Please change the shape of y to (n_samples, ), for example using ravel().\n",
      "/opt/anaconda3/lib/python3.6/site-packages/ipykernel_launcher.py:17: DataConversionWarning: A column-vector y was passed when a 1d array was expected. Please change the shape of y to (n_samples, ), for example using ravel().\n",
      "/opt/anaconda3/lib/python3.6/site-packages/ipykernel_launcher.py:17: DataConversionWarning: A column-vector y was passed when a 1d array was expected. Please change the shape of y to (n_samples, ), for example using ravel().\n",
      "/opt/anaconda3/lib/python3.6/site-packages/ipykernel_launcher.py:17: DataConversionWarning: A column-vector y was passed when a 1d array was expected. Please change the shape of y to (n_samples, ), for example using ravel().\n",
      "/opt/anaconda3/lib/python3.6/site-packages/ipykernel_launcher.py:17: DataConversionWarning: A column-vector y was passed when a 1d array was expected. Please change the shape of y to (n_samples, ), for example using ravel().\n",
      "/opt/anaconda3/lib/python3.6/site-packages/ipykernel_launcher.py:17: DataConversionWarning: A column-vector y was passed when a 1d array was expected. Please change the shape of y to (n_samples, ), for example using ravel().\n",
      "/opt/anaconda3/lib/python3.6/site-packages/ipykernel_launcher.py:17: DataConversionWarning: A column-vector y was passed when a 1d array was expected. Please change the shape of y to (n_samples, ), for example using ravel().\n",
      "/opt/anaconda3/lib/python3.6/site-packages/ipykernel_launcher.py:17: DataConversionWarning: A column-vector y was passed when a 1d array was expected. Please change the shape of y to (n_samples, ), for example using ravel().\n",
      "/opt/anaconda3/lib/python3.6/site-packages/ipykernel_launcher.py:17: DataConversionWarning: A column-vector y was passed when a 1d array was expected. Please change the shape of y to (n_samples, ), for example using ravel().\n",
      "/opt/anaconda3/lib/python3.6/site-packages/ipykernel_launcher.py:17: DataConversionWarning: A column-vector y was passed when a 1d array was expected. Please change the shape of y to (n_samples, ), for example using ravel().\n",
      "/opt/anaconda3/lib/python3.6/site-packages/ipykernel_launcher.py:17: DataConversionWarning: A column-vector y was passed when a 1d array was expected. Please change the shape of y to (n_samples, ), for example using ravel().\n",
      "/opt/anaconda3/lib/python3.6/site-packages/ipykernel_launcher.py:17: DataConversionWarning: A column-vector y was passed when a 1d array was expected. Please change the shape of y to (n_samples, ), for example using ravel().\n",
      "/opt/anaconda3/lib/python3.6/site-packages/ipykernel_launcher.py:17: DataConversionWarning: A column-vector y was passed when a 1d array was expected. Please change the shape of y to (n_samples, ), for example using ravel().\n",
      "/opt/anaconda3/lib/python3.6/site-packages/ipykernel_launcher.py:17: DataConversionWarning: A column-vector y was passed when a 1d array was expected. Please change the shape of y to (n_samples, ), for example using ravel().\n",
      "/opt/anaconda3/lib/python3.6/site-packages/ipykernel_launcher.py:17: DataConversionWarning: A column-vector y was passed when a 1d array was expected. Please change the shape of y to (n_samples, ), for example using ravel().\n",
      "/opt/anaconda3/lib/python3.6/site-packages/ipykernel_launcher.py:17: DataConversionWarning: A column-vector y was passed when a 1d array was expected. Please change the shape of y to (n_samples, ), for example using ravel().\n",
      "/opt/anaconda3/lib/python3.6/site-packages/ipykernel_launcher.py:17: DataConversionWarning: A column-vector y was passed when a 1d array was expected. Please change the shape of y to (n_samples, ), for example using ravel().\n",
      "/opt/anaconda3/lib/python3.6/site-packages/ipykernel_launcher.py:17: DataConversionWarning: A column-vector y was passed when a 1d array was expected. Please change the shape of y to (n_samples, ), for example using ravel().\n",
      "/opt/anaconda3/lib/python3.6/site-packages/ipykernel_launcher.py:17: DataConversionWarning: A column-vector y was passed when a 1d array was expected. Please change the shape of y to (n_samples, ), for example using ravel().\n",
      "/opt/anaconda3/lib/python3.6/site-packages/ipykernel_launcher.py:17: DataConversionWarning: A column-vector y was passed when a 1d array was expected. Please change the shape of y to (n_samples, ), for example using ravel().\n",
      "/opt/anaconda3/lib/python3.6/site-packages/ipykernel_launcher.py:17: DataConversionWarning: A column-vector y was passed when a 1d array was expected. Please change the shape of y to (n_samples, ), for example using ravel().\n",
      "/opt/anaconda3/lib/python3.6/site-packages/ipykernel_launcher.py:17: DataConversionWarning: A column-vector y was passed when a 1d array was expected. Please change the shape of y to (n_samples, ), for example using ravel().\n",
      "/opt/anaconda3/lib/python3.6/site-packages/ipykernel_launcher.py:17: DataConversionWarning: A column-vector y was passed when a 1d array was expected. Please change the shape of y to (n_samples, ), for example using ravel().\n",
      "/opt/anaconda3/lib/python3.6/site-packages/ipykernel_launcher.py:17: DataConversionWarning: A column-vector y was passed when a 1d array was expected. Please change the shape of y to (n_samples, ), for example using ravel().\n",
      "/opt/anaconda3/lib/python3.6/site-packages/ipykernel_launcher.py:17: DataConversionWarning: A column-vector y was passed when a 1d array was expected. Please change the shape of y to (n_samples, ), for example using ravel().\n",
      "/opt/anaconda3/lib/python3.6/site-packages/ipykernel_launcher.py:17: DataConversionWarning: A column-vector y was passed when a 1d array was expected. Please change the shape of y to (n_samples, ), for example using ravel().\n"
     ]
    },
    {
     "data": {
      "text/html": [
       "<div>\n",
       "<style scoped>\n",
       "    .dataframe tbody tr th:only-of-type {\n",
       "        vertical-align: middle;\n",
       "    }\n",
       "\n",
       "    .dataframe tbody tr th {\n",
       "        vertical-align: top;\n",
       "    }\n",
       "\n",
       "    .dataframe thead th {\n",
       "        text-align: right;\n",
       "    }\n",
       "</style>\n",
       "<table border=\"1\" class=\"dataframe\">\n",
       "  <thead>\n",
       "    <tr style=\"text-align: right;\">\n",
       "      <th></th>\n",
       "      <th>n_components</th>\n",
       "      <th>train_score</th>\n",
       "      <th>test_score</th>\n",
       "    </tr>\n",
       "  </thead>\n",
       "  <tbody>\n",
       "    <tr>\n",
       "      <td>0</td>\n",
       "      <td>1</td>\n",
       "      <td>0.479617</td>\n",
       "      <td>0.2733</td>\n",
       "    </tr>\n",
       "    <tr>\n",
       "      <td>1</td>\n",
       "      <td>2</td>\n",
       "      <td>0.587950</td>\n",
       "      <td>0.4242</td>\n",
       "    </tr>\n",
       "    <tr>\n",
       "      <td>2</td>\n",
       "      <td>3</td>\n",
       "      <td>0.630550</td>\n",
       "      <td>0.4874</td>\n",
       "    </tr>\n",
       "    <tr>\n",
       "      <td>3</td>\n",
       "      <td>4</td>\n",
       "      <td>0.732267</td>\n",
       "      <td>0.6328</td>\n",
       "    </tr>\n",
       "    <tr>\n",
       "      <td>4</td>\n",
       "      <td>5</td>\n",
       "      <td>0.813633</td>\n",
       "      <td>0.7474</td>\n",
       "    </tr>\n",
       "    <tr>\n",
       "      <td>5</td>\n",
       "      <td>6</td>\n",
       "      <td>0.878350</td>\n",
       "      <td>0.8321</td>\n",
       "    </tr>\n",
       "    <tr>\n",
       "      <td>6</td>\n",
       "      <td>7</td>\n",
       "      <td>0.910483</td>\n",
       "      <td>0.8722</td>\n",
       "    </tr>\n",
       "    <tr>\n",
       "      <td>7</td>\n",
       "      <td>8</td>\n",
       "      <td>0.931917</td>\n",
       "      <td>0.9010</td>\n",
       "    </tr>\n",
       "    <tr>\n",
       "      <td>8</td>\n",
       "      <td>9</td>\n",
       "      <td>0.944167</td>\n",
       "      <td>0.9138</td>\n",
       "    </tr>\n",
       "    <tr>\n",
       "      <td>9</td>\n",
       "      <td>10</td>\n",
       "      <td>0.954500</td>\n",
       "      <td>0.9276</td>\n",
       "    </tr>\n",
       "    <tr>\n",
       "      <td>10</td>\n",
       "      <td>11</td>\n",
       "      <td>0.960533</td>\n",
       "      <td>0.9359</td>\n",
       "    </tr>\n",
       "    <tr>\n",
       "      <td>11</td>\n",
       "      <td>12</td>\n",
       "      <td>0.965683</td>\n",
       "      <td>0.9439</td>\n",
       "    </tr>\n",
       "    <tr>\n",
       "      <td>12</td>\n",
       "      <td>13</td>\n",
       "      <td>0.970100</td>\n",
       "      <td>0.9513</td>\n",
       "    </tr>\n",
       "    <tr>\n",
       "      <td>13</td>\n",
       "      <td>14</td>\n",
       "      <td>0.972800</td>\n",
       "      <td>0.9566</td>\n",
       "    </tr>\n",
       "    <tr>\n",
       "      <td>14</td>\n",
       "      <td>15</td>\n",
       "      <td>0.974317</td>\n",
       "      <td>0.9592</td>\n",
       "    </tr>\n",
       "    <tr>\n",
       "      <td>15</td>\n",
       "      <td>16</td>\n",
       "      <td>0.977267</td>\n",
       "      <td>0.9630</td>\n",
       "    </tr>\n",
       "    <tr>\n",
       "      <td>16</td>\n",
       "      <td>17</td>\n",
       "      <td>0.978667</td>\n",
       "      <td>0.9647</td>\n",
       "    </tr>\n",
       "    <tr>\n",
       "      <td>17</td>\n",
       "      <td>18</td>\n",
       "      <td>0.978917</td>\n",
       "      <td>0.9662</td>\n",
       "    </tr>\n",
       "    <tr>\n",
       "      <td>18</td>\n",
       "      <td>19</td>\n",
       "      <td>0.980517</td>\n",
       "      <td>0.9680</td>\n",
       "    </tr>\n",
       "    <tr>\n",
       "      <td>19</td>\n",
       "      <td>20</td>\n",
       "      <td>0.981067</td>\n",
       "      <td>0.9697</td>\n",
       "    </tr>\n",
       "    <tr>\n",
       "      <td>20</td>\n",
       "      <td>21</td>\n",
       "      <td>0.982183</td>\n",
       "      <td>0.9702</td>\n",
       "    </tr>\n",
       "    <tr>\n",
       "      <td>21</td>\n",
       "      <td>22</td>\n",
       "      <td>0.982500</td>\n",
       "      <td>0.9712</td>\n",
       "    </tr>\n",
       "    <tr>\n",
       "      <td>22</td>\n",
       "      <td>23</td>\n",
       "      <td>0.983100</td>\n",
       "      <td>0.9721</td>\n",
       "    </tr>\n",
       "    <tr>\n",
       "      <td>23</td>\n",
       "      <td>24</td>\n",
       "      <td>0.983567</td>\n",
       "      <td>0.9725</td>\n",
       "    </tr>\n",
       "    <tr>\n",
       "      <td>24</td>\n",
       "      <td>25</td>\n",
       "      <td>0.983617</td>\n",
       "      <td>0.9737</td>\n",
       "    </tr>\n",
       "  </tbody>\n",
       "</table>\n",
       "</div>"
      ],
      "text/plain": [
       "    n_components  train_score  test_score\n",
       "0              1     0.479617      0.2733\n",
       "1              2     0.587950      0.4242\n",
       "2              3     0.630550      0.4874\n",
       "3              4     0.732267      0.6328\n",
       "4              5     0.813633      0.7474\n",
       "5              6     0.878350      0.8321\n",
       "6              7     0.910483      0.8722\n",
       "7              8     0.931917      0.9010\n",
       "8              9     0.944167      0.9138\n",
       "9             10     0.954500      0.9276\n",
       "10            11     0.960533      0.9359\n",
       "11            12     0.965683      0.9439\n",
       "12            13     0.970100      0.9513\n",
       "13            14     0.972800      0.9566\n",
       "14            15     0.974317      0.9592\n",
       "15            16     0.977267      0.9630\n",
       "16            17     0.978667      0.9647\n",
       "17            18     0.978917      0.9662\n",
       "18            19     0.980517      0.9680\n",
       "19            20     0.981067      0.9697\n",
       "20            21     0.982183      0.9702\n",
       "21            22     0.982500      0.9712\n",
       "22            23     0.983100      0.9721\n",
       "23            24     0.983567      0.9725\n",
       "24            25     0.983617      0.9737"
      ]
     },
     "execution_count": 425,
     "metadata": {},
     "output_type": "execute_result"
    }
   ],
   "source": [
    "# try different components and inspect accuracy\n",
    "n_components = np.arange(30)+1\n",
    "knn = KNeighborsClassifier()\n",
    "train_score = []\n",
    "test_score = []\n",
    "variance = []\n",
    "test_time = []\n",
    "\n",
    "for n in n_components:\n",
    "    start_time = 0;\n",
    "    end_time=0;\n",
    "    pca = PCA(n_components = n)\n",
    "    pca.fit(x_train.flatten().reshape(60000,784))\n",
    "    variance.append(sum(pca.explained_variance_ratio_))\n",
    "    x_train_tr = pca.transform(x_train.flatten().reshape(60000,784))\n",
    "    x_test_tr = pca.transform(x_test.flatten().reshape(10000,784))\n",
    "    knn.fit(x_train_tr,y_train.reshape(60000,1))\n",
    "    train_score.append(knn.score(x_train_tr,y_train.reshape(60000,1)))\n",
    "    start_time = time.time()\n",
    "    test_score.append(knn.score(x_test_tr,y_test.reshape(10000,1)))\n",
    "    end_time = time.time()\n",
    "    test_time.append(round(end_time - start_time,4))\n",
    "    \n",
    "analysis = pd.DataFrame()\n",
    "analysis['n_components'] = n_components\n",
    "analysis['explained_variance'] = variance\n",
    "analysis['train_score'] = train_score\n",
    "analysis['test_score'] = test_score\n",
    "analysis['test_time_knn'] = test_time\n",
    "accuracy"
   ]
  },
  {
   "cell_type": "code",
   "execution_count": 426,
   "metadata": {},
   "outputs": [
    {
     "data": {
      "text/html": [
       "<div>\n",
       "<style scoped>\n",
       "    .dataframe tbody tr th:only-of-type {\n",
       "        vertical-align: middle;\n",
       "    }\n",
       "\n",
       "    .dataframe tbody tr th {\n",
       "        vertical-align: top;\n",
       "    }\n",
       "\n",
       "    .dataframe thead th {\n",
       "        text-align: right;\n",
       "    }\n",
       "</style>\n",
       "<table border=\"1\" class=\"dataframe\">\n",
       "  <thead>\n",
       "    <tr style=\"text-align: right;\">\n",
       "      <th></th>\n",
       "      <th>n_components</th>\n",
       "      <th>explained_variance</th>\n",
       "      <th>train_score</th>\n",
       "      <th>test_score</th>\n",
       "      <th>test_time_knn</th>\n",
       "    </tr>\n",
       "  </thead>\n",
       "  <tbody>\n",
       "    <tr>\n",
       "      <td>0</td>\n",
       "      <td>1</td>\n",
       "      <td>0.097047</td>\n",
       "      <td>0.478433</td>\n",
       "      <td>0.2737</td>\n",
       "      <td>0.3136</td>\n",
       "    </tr>\n",
       "    <tr>\n",
       "      <td>1</td>\n",
       "      <td>2</td>\n",
       "      <td>0.168006</td>\n",
       "      <td>0.587933</td>\n",
       "      <td>0.4245</td>\n",
       "      <td>0.3227</td>\n",
       "    </tr>\n",
       "    <tr>\n",
       "      <td>2</td>\n",
       "      <td>3</td>\n",
       "      <td>0.229697</td>\n",
       "      <td>0.630433</td>\n",
       "      <td>0.4876</td>\n",
       "      <td>0.3723</td>\n",
       "    </tr>\n",
       "    <tr>\n",
       "      <td>3</td>\n",
       "      <td>4</td>\n",
       "      <td>0.283591</td>\n",
       "      <td>0.732233</td>\n",
       "      <td>0.6329</td>\n",
       "      <td>0.3674</td>\n",
       "    </tr>\n",
       "    <tr>\n",
       "      <td>4</td>\n",
       "      <td>5</td>\n",
       "      <td>0.332279</td>\n",
       "      <td>0.813617</td>\n",
       "      <td>0.7474</td>\n",
       "      <td>0.4106</td>\n",
       "    </tr>\n",
       "    <tr>\n",
       "      <td>5</td>\n",
       "      <td>6</td>\n",
       "      <td>0.375401</td>\n",
       "      <td>0.878350</td>\n",
       "      <td>0.8321</td>\n",
       "      <td>0.6519</td>\n",
       "    </tr>\n",
       "    <tr>\n",
       "      <td>6</td>\n",
       "      <td>7</td>\n",
       "      <td>0.408121</td>\n",
       "      <td>0.910450</td>\n",
       "      <td>0.8723</td>\n",
       "      <td>0.7854</td>\n",
       "    </tr>\n",
       "    <tr>\n",
       "      <td>7</td>\n",
       "      <td>8</td>\n",
       "      <td>0.436959</td>\n",
       "      <td>0.931883</td>\n",
       "      <td>0.9010</td>\n",
       "      <td>0.9031</td>\n",
       "    </tr>\n",
       "    <tr>\n",
       "      <td>8</td>\n",
       "      <td>9</td>\n",
       "      <td>0.464579</td>\n",
       "      <td>0.944050</td>\n",
       "      <td>0.9138</td>\n",
       "      <td>1.0957</td>\n",
       "    </tr>\n",
       "    <tr>\n",
       "      <td>9</td>\n",
       "      <td>10</td>\n",
       "      <td>0.488150</td>\n",
       "      <td>0.954500</td>\n",
       "      <td>0.9276</td>\n",
       "      <td>1.3629</td>\n",
       "    </tr>\n",
       "    <tr>\n",
       "      <td>10</td>\n",
       "      <td>11</td>\n",
       "      <td>0.509240</td>\n",
       "      <td>0.960467</td>\n",
       "      <td>0.9362</td>\n",
       "      <td>1.8309</td>\n",
       "    </tr>\n",
       "    <tr>\n",
       "      <td>11</td>\n",
       "      <td>12</td>\n",
       "      <td>0.529471</td>\n",
       "      <td>0.965683</td>\n",
       "      <td>0.9439</td>\n",
       "      <td>1.8951</td>\n",
       "    </tr>\n",
       "    <tr>\n",
       "      <td>12</td>\n",
       "      <td>13</td>\n",
       "      <td>0.546623</td>\n",
       "      <td>0.969983</td>\n",
       "      <td>0.9517</td>\n",
       "      <td>2.4413</td>\n",
       "    </tr>\n",
       "    <tr>\n",
       "      <td>13</td>\n",
       "      <td>14</td>\n",
       "      <td>0.563551</td>\n",
       "      <td>0.972767</td>\n",
       "      <td>0.9568</td>\n",
       "      <td>2.6664</td>\n",
       "    </tr>\n",
       "    <tr>\n",
       "      <td>14</td>\n",
       "      <td>15</td>\n",
       "      <td>0.579336</td>\n",
       "      <td>0.974283</td>\n",
       "      <td>0.9594</td>\n",
       "      <td>3.0281</td>\n",
       "    </tr>\n",
       "    <tr>\n",
       "      <td>15</td>\n",
       "      <td>16</td>\n",
       "      <td>0.594154</td>\n",
       "      <td>0.977283</td>\n",
       "      <td>0.9627</td>\n",
       "      <td>3.5307</td>\n",
       "    </tr>\n",
       "    <tr>\n",
       "      <td>16</td>\n",
       "      <td>17</td>\n",
       "      <td>0.607410</td>\n",
       "      <td>0.978583</td>\n",
       "      <td>0.9648</td>\n",
       "      <td>3.9028</td>\n",
       "    </tr>\n",
       "    <tr>\n",
       "      <td>17</td>\n",
       "      <td>18</td>\n",
       "      <td>0.620176</td>\n",
       "      <td>0.979000</td>\n",
       "      <td>0.9664</td>\n",
       "      <td>4.4763</td>\n",
       "    </tr>\n",
       "    <tr>\n",
       "      <td>18</td>\n",
       "      <td>19</td>\n",
       "      <td>0.632051</td>\n",
       "      <td>0.980533</td>\n",
       "      <td>0.9684</td>\n",
       "      <td>5.8521</td>\n",
       "    </tr>\n",
       "    <tr>\n",
       "      <td>19</td>\n",
       "      <td>20</td>\n",
       "      <td>0.643574</td>\n",
       "      <td>0.981000</td>\n",
       "      <td>0.9696</td>\n",
       "      <td>6.3224</td>\n",
       "    </tr>\n",
       "    <tr>\n",
       "      <td>20</td>\n",
       "      <td>21</td>\n",
       "      <td>0.654238</td>\n",
       "      <td>0.982150</td>\n",
       "      <td>0.9703</td>\n",
       "      <td>5.7531</td>\n",
       "    </tr>\n",
       "    <tr>\n",
       "      <td>21</td>\n",
       "      <td>22</td>\n",
       "      <td>0.664274</td>\n",
       "      <td>0.982417</td>\n",
       "      <td>0.9710</td>\n",
       "      <td>6.5579</td>\n",
       "    </tr>\n",
       "    <tr>\n",
       "      <td>22</td>\n",
       "      <td>23</td>\n",
       "      <td>0.673840</td>\n",
       "      <td>0.983183</td>\n",
       "      <td>0.9717</td>\n",
       "      <td>6.9965</td>\n",
       "    </tr>\n",
       "    <tr>\n",
       "      <td>23</td>\n",
       "      <td>24</td>\n",
       "      <td>0.682967</td>\n",
       "      <td>0.983500</td>\n",
       "      <td>0.9725</td>\n",
       "      <td>7.2774</td>\n",
       "    </tr>\n",
       "    <tr>\n",
       "      <td>24</td>\n",
       "      <td>25</td>\n",
       "      <td>0.691798</td>\n",
       "      <td>0.983633</td>\n",
       "      <td>0.9737</td>\n",
       "      <td>8.1980</td>\n",
       "    </tr>\n",
       "    <tr>\n",
       "      <td>25</td>\n",
       "      <td>26</td>\n",
       "      <td>0.700193</td>\n",
       "      <td>0.984200</td>\n",
       "      <td>0.9741</td>\n",
       "      <td>8.2371</td>\n",
       "    </tr>\n",
       "    <tr>\n",
       "      <td>26</td>\n",
       "      <td>27</td>\n",
       "      <td>0.708320</td>\n",
       "      <td>0.984733</td>\n",
       "      <td>0.9744</td>\n",
       "      <td>9.3466</td>\n",
       "    </tr>\n",
       "    <tr>\n",
       "      <td>27</td>\n",
       "      <td>28</td>\n",
       "      <td>0.716184</td>\n",
       "      <td>0.984433</td>\n",
       "      <td>0.9754</td>\n",
       "      <td>10.5784</td>\n",
       "    </tr>\n",
       "    <tr>\n",
       "      <td>28</td>\n",
       "      <td>29</td>\n",
       "      <td>0.723632</td>\n",
       "      <td>0.984917</td>\n",
       "      <td>0.9756</td>\n",
       "      <td>14.1971</td>\n",
       "    </tr>\n",
       "    <tr>\n",
       "      <td>29</td>\n",
       "      <td>30</td>\n",
       "      <td>0.730533</td>\n",
       "      <td>0.985150</td>\n",
       "      <td>0.9753</td>\n",
       "      <td>10.0087</td>\n",
       "    </tr>\n",
       "  </tbody>\n",
       "</table>\n",
       "</div>"
      ],
      "text/plain": [
       "    n_components  explained_variance  train_score  test_score  test_time_knn\n",
       "0              1            0.097047     0.478433      0.2737         0.3136\n",
       "1              2            0.168006     0.587933      0.4245         0.3227\n",
       "2              3            0.229697     0.630433      0.4876         0.3723\n",
       "3              4            0.283591     0.732233      0.6329         0.3674\n",
       "4              5            0.332279     0.813617      0.7474         0.4106\n",
       "5              6            0.375401     0.878350      0.8321         0.6519\n",
       "6              7            0.408121     0.910450      0.8723         0.7854\n",
       "7              8            0.436959     0.931883      0.9010         0.9031\n",
       "8              9            0.464579     0.944050      0.9138         1.0957\n",
       "9             10            0.488150     0.954500      0.9276         1.3629\n",
       "10            11            0.509240     0.960467      0.9362         1.8309\n",
       "11            12            0.529471     0.965683      0.9439         1.8951\n",
       "12            13            0.546623     0.969983      0.9517         2.4413\n",
       "13            14            0.563551     0.972767      0.9568         2.6664\n",
       "14            15            0.579336     0.974283      0.9594         3.0281\n",
       "15            16            0.594154     0.977283      0.9627         3.5307\n",
       "16            17            0.607410     0.978583      0.9648         3.9028\n",
       "17            18            0.620176     0.979000      0.9664         4.4763\n",
       "18            19            0.632051     0.980533      0.9684         5.8521\n",
       "19            20            0.643574     0.981000      0.9696         6.3224\n",
       "20            21            0.654238     0.982150      0.9703         5.7531\n",
       "21            22            0.664274     0.982417      0.9710         6.5579\n",
       "22            23            0.673840     0.983183      0.9717         6.9965\n",
       "23            24            0.682967     0.983500      0.9725         7.2774\n",
       "24            25            0.691798     0.983633      0.9737         8.1980\n",
       "25            26            0.700193     0.984200      0.9741         8.2371\n",
       "26            27            0.708320     0.984733      0.9744         9.3466\n",
       "27            28            0.716184     0.984433      0.9754        10.5784\n",
       "28            29            0.723632     0.984917      0.9756        14.1971\n",
       "29            30            0.730533     0.985150      0.9753        10.0087"
      ]
     },
     "execution_count": 426,
     "metadata": {},
     "output_type": "execute_result"
    }
   ],
   "source": [
    "analysis"
   ]
  },
  {
   "cell_type": "code",
   "execution_count": 427,
   "metadata": {},
   "outputs": [
    {
     "data": {
      "text/plain": [
       "Text(0.5, 1.0, 'accuracy analysis on PCA component numbers')"
      ]
     },
     "execution_count": 427,
     "metadata": {},
     "output_type": "execute_result"
    },
    {
     "data": {
      "image/png": "[encoded data removed]",
      "text/plain": [
       "<Figure size 432x288 with 1 Axes>"
      ]
     },
     "metadata": {
      "needs_background": "light"
     },
     "output_type": "display_data"
    }
   ],
   "source": [
    "ax1 = analysis.plot.line(x='n_components',y='explained_variance')\n",
    "ax2 = analysis.plot.line(x='n_components',y='test_score',ax=ax1)\n",
    "plt.title('accuracy analysis on PCA component numbers')"
   ]
  },
  {
   "cell_type": "code",
   "execution_count": 428,
   "metadata": {},
   "outputs": [
    {
     "data": {
      "text/plain": [
       "Text(0.5, 1.0, 'trade-off on PCA component numbers')"
      ]
     },
     "execution_count": 428,
     "metadata": {},
     "output_type": "execute_result"
    },
    {
     "data": {
      "image/png": "[encoded data removed]",
      "text/plain": [
       "<Figure size 432x288 with 1 Axes>"
      ]
     },
     "metadata": {
      "needs_background": "light"
     },
     "output_type": "display_data"
    }
   ],
   "source": [
    "ax1 = analysis.plot.line(x='n_components',y='test_time_knn')\n",
    "ax2 = analysis.plot.line(x='n_components',y='test_score',ax=ax1)\n",
    "plt.title('trade-off on PCA component numbers')"
   ]
  },
  {
   "cell_type": "code",
   "execution_count": 372,
   "metadata": {},
   "outputs": [
    {
     "name": "stderr",
     "output_type": "stream",
     "text": [
      "/opt/anaconda3/lib/python3.6/site-packages/ipykernel_launcher.py:6: DataConversionWarning: A column-vector y was passed when a 1d array was expected. Please change the shape of y to (n_samples, ), for example using ravel().\n",
      "  \n"
     ]
    }
   ],
   "source": [
    "pca = PCA(n_components = 25)\n",
    "pca.fit(x_train.flatten().reshape(60000,784))\n",
    "x_train_tr = pca.transform(x_train.flatten().reshape(60000,784))\n",
    "x_test_tr = pca.transform(x_test.flatten().reshape(10000,784))\n",
    "start_time = time.perf_counter()\n",
    "knn.fit(x_train_tr,y_train.reshape(60000,1))\n",
    "end_time = time.perf_counter()\n",
    "total_time = round(end_time - start_time,4)"
   ]
  },
  {
   "cell_type": "code",
   "execution_count": 377,
   "metadata": {},
   "outputs": [
    {
     "data": {
      "text/html": [
       "<div>\n",
       "<style scoped>\n",
       "    .dataframe tbody tr th:only-of-type {\n",
       "        vertical-align: middle;\n",
       "    }\n",
       "\n",
       "    .dataframe tbody tr th {\n",
       "        vertical-align: top;\n",
       "    }\n",
       "\n",
       "    .dataframe thead th {\n",
       "        text-align: right;\n",
       "    }\n",
       "</style>\n",
       "<table border=\"1\" class=\"dataframe\">\n",
       "  <thead>\n",
       "    <tr style=\"text-align: right;\">\n",
       "      <th></th>\n",
       "      <th>0</th>\n",
       "      <th>1</th>\n",
       "      <th>2</th>\n",
       "      <th>3</th>\n",
       "      <th>4</th>\n",
       "      <th>5</th>\n",
       "      <th>6</th>\n",
       "      <th>7</th>\n",
       "      <th>8</th>\n",
       "      <th>9</th>\n",
       "      <th>...</th>\n",
       "      <th>774</th>\n",
       "      <th>775</th>\n",
       "      <th>776</th>\n",
       "      <th>777</th>\n",
       "      <th>778</th>\n",
       "      <th>779</th>\n",
       "      <th>780</th>\n",
       "      <th>781</th>\n",
       "      <th>782</th>\n",
       "      <th>783</th>\n",
       "    </tr>\n",
       "  </thead>\n",
       "  <tbody>\n",
       "    <tr>\n",
       "      <td>0</td>\n",
       "      <td>-0.0</td>\n",
       "      <td>0.0</td>\n",
       "      <td>0.0</td>\n",
       "      <td>-0.0</td>\n",
       "      <td>0.0</td>\n",
       "      <td>0.0</td>\n",
       "      <td>0.0</td>\n",
       "      <td>0.0</td>\n",
       "      <td>-0.0</td>\n",
       "      <td>-0.0</td>\n",
       "      <td>...</td>\n",
       "      <td>-0.000</td>\n",
       "      <td>0.0</td>\n",
       "      <td>0.0</td>\n",
       "      <td>-0.0</td>\n",
       "      <td>-0.0</td>\n",
       "      <td>0.0</td>\n",
       "      <td>0.0</td>\n",
       "      <td>0.0</td>\n",
       "      <td>0.0</td>\n",
       "      <td>0.0</td>\n",
       "    </tr>\n",
       "    <tr>\n",
       "      <td>1</td>\n",
       "      <td>-0.0</td>\n",
       "      <td>0.0</td>\n",
       "      <td>0.0</td>\n",
       "      <td>-0.0</td>\n",
       "      <td>0.0</td>\n",
       "      <td>0.0</td>\n",
       "      <td>0.0</td>\n",
       "      <td>0.0</td>\n",
       "      <td>-0.0</td>\n",
       "      <td>-0.0</td>\n",
       "      <td>...</td>\n",
       "      <td>0.001</td>\n",
       "      <td>0.0</td>\n",
       "      <td>0.0</td>\n",
       "      <td>0.0</td>\n",
       "      <td>0.0</td>\n",
       "      <td>0.0</td>\n",
       "      <td>-0.0</td>\n",
       "      <td>-0.0</td>\n",
       "      <td>-0.0</td>\n",
       "      <td>-0.0</td>\n",
       "    </tr>\n",
       "    <tr>\n",
       "      <td>2</td>\n",
       "      <td>-0.0</td>\n",
       "      <td>0.0</td>\n",
       "      <td>0.0</td>\n",
       "      <td>0.0</td>\n",
       "      <td>0.0</td>\n",
       "      <td>-0.0</td>\n",
       "      <td>-0.0</td>\n",
       "      <td>-0.0</td>\n",
       "      <td>0.0</td>\n",
       "      <td>0.0</td>\n",
       "      <td>...</td>\n",
       "      <td>-0.000</td>\n",
       "      <td>-0.0</td>\n",
       "      <td>-0.0</td>\n",
       "      <td>-0.0</td>\n",
       "      <td>-0.0</td>\n",
       "      <td>-0.0</td>\n",
       "      <td>-0.0</td>\n",
       "      <td>-0.0</td>\n",
       "      <td>-0.0</td>\n",
       "      <td>-0.0</td>\n",
       "    </tr>\n",
       "  </tbody>\n",
       "</table>\n",
       "<p>3 rows × 784 columns</p>\n",
       "</div>"
      ],
      "text/plain": [
       "   0    1    2    3    4    5    6    7    8    9    ...    774  775  776  \\\n",
       "0 -0.0  0.0  0.0 -0.0  0.0  0.0  0.0  0.0 -0.0 -0.0  ... -0.000  0.0  0.0   \n",
       "1 -0.0  0.0  0.0 -0.0  0.0  0.0  0.0  0.0 -0.0 -0.0  ...  0.001  0.0  0.0   \n",
       "2 -0.0  0.0  0.0  0.0  0.0 -0.0 -0.0 -0.0  0.0  0.0  ... -0.000 -0.0 -0.0   \n",
       "\n",
       "   777  778  779  780  781  782  783  \n",
       "0 -0.0 -0.0  0.0  0.0  0.0  0.0  0.0  \n",
       "1  0.0  0.0  0.0 -0.0 -0.0 -0.0 -0.0  \n",
       "2 -0.0 -0.0 -0.0 -0.0 -0.0 -0.0 -0.0  \n",
       "\n",
       "[3 rows x 784 columns]"
      ]
     },
     "execution_count": 377,
     "metadata": {},
     "output_type": "execute_result"
    }
   ],
   "source": [
    "df_loadings = pd.DataFrame(pca.components_,\n",
    "                          columns=df.columns,)\n",
    "df_loadings.head(3).round(3) # How much original features are contained in the new features."
   ]
  },
  {
   "cell_type": "code",
   "execution_count": 379,
   "metadata": {},
   "outputs": [
    {
     "data": {
      "text/plain": [
       "233    0.807812\n",
       "260    0.708157\n",
       "232    0.696515\n",
       "547    0.676531\n",
       "548    0.669959\n",
       "         ...   \n",
       "155   -0.508337\n",
       "183   -0.518973\n",
       "658   -0.582818\n",
       "656   -0.619541\n",
       "657   -0.698839\n",
       "Length: 784, dtype: float64"
      ]
     },
     "execution_count": 379,
     "metadata": {},
     "output_type": "execute_result"
    }
   ],
   "source": [
    "df_loadings.sum().sort_values(ascending=False)"
   ]
  },
  {
   "cell_type": "code",
   "execution_count": 381,
   "metadata": {},
   "outputs": [
    {
     "data": {
      "text/plain": [
       "<matplotlib.image.AxesImage at 0x7fbb0e39d080>"
      ]
     },
     "execution_count": 381,
     "metadata": {},
     "output_type": "execute_result"
    },
    {
     "data": {
      "image/png": "[encoded data removed]",
      "text/plain": [
       "<Figure size 432x288 with 1 Axes>"
      ]
     },
     "metadata": {
      "needs_background": "light"
     },
     "output_type": "display_data"
    }
   ],
   "source": [
    "plt.imshow(df_loadings.sum().to_numpy().reshape(28,28))"
   ]
  },
  {
   "cell_type": "code",
   "execution_count": 394,
   "metadata": {},
   "outputs": [
    {
     "data": {
      "text/plain": [
       "<matplotlib.image.AxesImage at 0x7fbb0e74d208>"
      ]
     },
     "execution_count": 394,
     "metadata": {},
     "output_type": "execute_result"
    },
    {
     "data": {
      "image/png": "[encoded data removed]",
      "text/plain": [
       "<Figure size 432x288 with 1 Axes>"
      ]
     },
     "metadata": {
      "needs_background": "light"
     },
     "output_type": "display_data"
    }
   ],
   "source": [
    "plt.imshow(df_loadings.iloc[0,:].to_numpy().reshape(28,28))\n",
    "# primary PCA component "
   ]
  },
  {
   "cell_type": "code",
   "execution_count": 395,
   "metadata": {},
   "outputs": [
    {
     "data": {
      "text/plain": [
       "<matplotlib.image.AxesImage at 0x7fbb0e41f668>"
      ]
     },
     "execution_count": 395,
     "metadata": {},
     "output_type": "execute_result"
    },
    {
     "data": {
      "image/png": "[encoded data removed]",
      "text/plain": [
       "<Figure size 432x288 with 1 Axes>"
      ]
     },
     "metadata": {
      "needs_background": "light"
     },
     "output_type": "display_data"
    }
   ],
   "source": [
    "plt.imshow(df_loadings.iloc[1,:].to_numpy().reshape(28,28))\n",
    "# secondary PCA component"
   ]
  }
 ],
 "metadata": {
  "kernelspec": {
   "display_name": "Python 3",
   "language": "python",
   "name": "python3"
  },
  "language_info": {
   "codemirror_mode": {
    "name": "ipython",
    "version": 3
   },
   "file_extension": ".py",
   "mimetype": "text/x-python",
   "name": "python",
   "nbconvert_exporter": "python",
   "pygments_lexer": "ipython3",
   "version": "3.6.10"
  }
 },
 "nbformat": 4,
 "nbformat_minor": 4
}
